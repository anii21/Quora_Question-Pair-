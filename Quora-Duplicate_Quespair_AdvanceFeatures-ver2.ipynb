{
 "cells": [
  {
   "cell_type": "code",
   "execution_count": 1,
   "id": "8e42a4ce",
   "metadata": {
    "_cell_guid": "b1076dfc-b9ad-4769-8c92-a6c4dae69d19",
    "_uuid": "8f2839f25d086af736a60e9eeb907d3b93b6e0e5",
    "execution": {
     "iopub.execute_input": "2024-02-16T19:38:50.882536Z",
     "iopub.status.busy": "2024-02-16T19:38:50.882164Z",
     "iopub.status.idle": "2024-02-16T19:38:52.173368Z",
     "shell.execute_reply": "2024-02-16T19:38:52.172234Z"
    },
    "papermill": {
     "duration": 1.312764,
     "end_time": "2024-02-16T19:38:52.175599",
     "exception": false,
     "start_time": "2024-02-16T19:38:50.862835",
     "status": "completed"
    },
    "tags": []
   },
   "outputs": [
    {
     "name": "stdout",
     "output_type": "stream",
     "text": [
      "/kaggle/input/quora-question-pairs/train.csv.zip\n",
      "/kaggle/input/quora-question-pairs/sample_submission.csv.zip\n",
      "/kaggle/input/quora-question-pairs/test.csv\n",
      "/kaggle/input/quora-question-pairs/test.csv.zip\n"
     ]
    }
   ],
   "source": [
    "# This Python 3 environment comes with many helpful analytics libraries installed\n",
    "# It is defined by the kaggle/python Docker image: https://github.com/kaggle/docker-python\n",
    "# For example, here's several helpful packages to load\n",
    "\n",
    "import numpy as np # linear algebra\n",
    "import pandas as pd # data processing, CSV file I/O (e.g. pd.read_csv)\n",
    "\n",
    "# Input data files are available in the read-only \"../input/\" directory\n",
    "# For example, running this (by clicking run or pressing Shift+Enter) will list all files under the input directory\n",
    "\n",
    "import os\n",
    "for dirname, _, filenames in os.walk('/kaggle/input'):\n",
    "    for filename in filenames:\n",
    "        print(os.path.join(dirname, filename))\n",
    "\n",
    "# You can write up to 20GB to the current directory (/kaggle/working/) that gets preserved as output when you create a version using \"Save & Run All\" \n",
    "# You can also write temporary files to /kaggle/temp/, but they won't be saved outside of the current session"
   ]
  },
  {
   "cell_type": "code",
   "execution_count": 2,
   "id": "0fb8825d",
   "metadata": {
    "execution": {
     "iopub.execute_input": "2024-02-16T19:38:52.205162Z",
     "iopub.status.busy": "2024-02-16T19:38:52.204759Z",
     "iopub.status.idle": "2024-02-16T19:38:54.517712Z",
     "shell.execute_reply": "2024-02-16T19:38:54.516839Z"
    },
    "papermill": {
     "duration": 2.330158,
     "end_time": "2024-02-16T19:38:54.520329",
     "exception": false,
     "start_time": "2024-02-16T19:38:52.190171",
     "status": "completed"
    },
    "tags": []
   },
   "outputs": [],
   "source": [
    "import matplotlib.pyplot as plt\n",
    "import seaborn as sns\n",
    "\n",
    "import re\n",
    "from bs4 import BeautifulSoup #BeautifulSoup is a Python library for pulling data out of HTML and XML files. It provides Pythonic idioms for iterating, searching, and modifying the parse tree.\n",
    "\n",
    "import warnings     \n",
    "warnings.filterwarnings('ignore') "
   ]
  },
  {
   "cell_type": "code",
   "execution_count": 3,
   "id": "8390b12f",
   "metadata": {
    "execution": {
     "iopub.execute_input": "2024-02-16T19:38:54.551810Z",
     "iopub.status.busy": "2024-02-16T19:38:54.551307Z",
     "iopub.status.idle": "2024-02-16T19:38:56.357367Z",
     "shell.execute_reply": "2024-02-16T19:38:56.356118Z"
    },
    "papermill": {
     "duration": 1.824667,
     "end_time": "2024-02-16T19:38:56.360012",
     "exception": false,
     "start_time": "2024-02-16T19:38:54.535345",
     "status": "completed"
    },
    "tags": []
   },
   "outputs": [],
   "source": [
    "old_df = pd.read_csv('/kaggle/input/quora-question-pairs/train.csv.zip')"
   ]
  },
  {
   "cell_type": "code",
   "execution_count": 4,
   "id": "5a95bcfb",
   "metadata": {
    "execution": {
     "iopub.execute_input": "2024-02-16T19:38:56.391551Z",
     "iopub.status.busy": "2024-02-16T19:38:56.391149Z",
     "iopub.status.idle": "2024-02-16T19:38:56.398065Z",
     "shell.execute_reply": "2024-02-16T19:38:56.397038Z"
    },
    "papermill": {
     "duration": 0.025675,
     "end_time": "2024-02-16T19:38:56.400014",
     "exception": false,
     "start_time": "2024-02-16T19:38:56.374339",
     "status": "completed"
    },
    "tags": []
   },
   "outputs": [
    {
     "data": {
      "text/plain": [
       "(404290, 6)"
      ]
     },
     "execution_count": 4,
     "metadata": {},
     "output_type": "execute_result"
    }
   ],
   "source": [
    "old_df.shape"
   ]
  },
  {
   "cell_type": "code",
   "execution_count": 5,
   "id": "d981b913",
   "metadata": {
    "execution": {
     "iopub.execute_input": "2024-02-16T19:38:56.427370Z",
     "iopub.status.busy": "2024-02-16T19:38:56.427123Z",
     "iopub.status.idle": "2024-02-16T19:38:56.443899Z",
     "shell.execute_reply": "2024-02-16T19:38:56.442908Z"
    },
    "papermill": {
     "duration": 0.032922,
     "end_time": "2024-02-16T19:38:56.446081",
     "exception": false,
     "start_time": "2024-02-16T19:38:56.413159",
     "status": "completed"
    },
    "tags": []
   },
   "outputs": [
    {
     "data": {
      "text/html": [
       "<div>\n",
       "<style scoped>\n",
       "    .dataframe tbody tr th:only-of-type {\n",
       "        vertical-align: middle;\n",
       "    }\n",
       "\n",
       "    .dataframe tbody tr th {\n",
       "        vertical-align: top;\n",
       "    }\n",
       "\n",
       "    .dataframe thead th {\n",
       "        text-align: right;\n",
       "    }\n",
       "</style>\n",
       "<table border=\"1\" class=\"dataframe\">\n",
       "  <thead>\n",
       "    <tr style=\"text-align: right;\">\n",
       "      <th></th>\n",
       "      <th>id</th>\n",
       "      <th>qid1</th>\n",
       "      <th>qid2</th>\n",
       "      <th>question1</th>\n",
       "      <th>question2</th>\n",
       "      <th>is_duplicate</th>\n",
       "    </tr>\n",
       "  </thead>\n",
       "  <tbody>\n",
       "    <tr>\n",
       "      <th>0</th>\n",
       "      <td>0</td>\n",
       "      <td>1</td>\n",
       "      <td>2</td>\n",
       "      <td>What is the step by step guide to invest in sh...</td>\n",
       "      <td>What is the step by step guide to invest in sh...</td>\n",
       "      <td>0</td>\n",
       "    </tr>\n",
       "    <tr>\n",
       "      <th>1</th>\n",
       "      <td>1</td>\n",
       "      <td>3</td>\n",
       "      <td>4</td>\n",
       "      <td>What is the story of Kohinoor (Koh-i-Noor) Dia...</td>\n",
       "      <td>What would happen if the Indian government sto...</td>\n",
       "      <td>0</td>\n",
       "    </tr>\n",
       "    <tr>\n",
       "      <th>2</th>\n",
       "      <td>2</td>\n",
       "      <td>5</td>\n",
       "      <td>6</td>\n",
       "      <td>How can I increase the speed of my internet co...</td>\n",
       "      <td>How can Internet speed be increased by hacking...</td>\n",
       "      <td>0</td>\n",
       "    </tr>\n",
       "    <tr>\n",
       "      <th>3</th>\n",
       "      <td>3</td>\n",
       "      <td>7</td>\n",
       "      <td>8</td>\n",
       "      <td>Why am I mentally very lonely? How can I solve...</td>\n",
       "      <td>Find the remainder when [math]23^{24}[/math] i...</td>\n",
       "      <td>0</td>\n",
       "    </tr>\n",
       "    <tr>\n",
       "      <th>4</th>\n",
       "      <td>4</td>\n",
       "      <td>9</td>\n",
       "      <td>10</td>\n",
       "      <td>Which one dissolve in water quikly sugar, salt...</td>\n",
       "      <td>Which fish would survive in salt water?</td>\n",
       "      <td>0</td>\n",
       "    </tr>\n",
       "  </tbody>\n",
       "</table>\n",
       "</div>"
      ],
      "text/plain": [
       "   id  qid1  qid2                                          question1  \\\n",
       "0   0     1     2  What is the step by step guide to invest in sh...   \n",
       "1   1     3     4  What is the story of Kohinoor (Koh-i-Noor) Dia...   \n",
       "2   2     5     6  How can I increase the speed of my internet co...   \n",
       "3   3     7     8  Why am I mentally very lonely? How can I solve...   \n",
       "4   4     9    10  Which one dissolve in water quikly sugar, salt...   \n",
       "\n",
       "                                           question2  is_duplicate  \n",
       "0  What is the step by step guide to invest in sh...             0  \n",
       "1  What would happen if the Indian government sto...             0  \n",
       "2  How can Internet speed be increased by hacking...             0  \n",
       "3  Find the remainder when [math]23^{24}[/math] i...             0  \n",
       "4            Which fish would survive in salt water?             0  "
      ]
     },
     "execution_count": 5,
     "metadata": {},
     "output_type": "execute_result"
    }
   ],
   "source": [
    "old_df.head()"
   ]
  },
  {
   "cell_type": "markdown",
   "id": "26350122",
   "metadata": {
    "papermill": {
     "duration": 0.013405,
     "end_time": "2024-02-16T19:38:56.474165",
     "exception": false,
     "start_time": "2024-02-16T19:38:56.460760",
     "status": "completed"
    },
    "tags": []
   },
   "source": [
    "# **EDA and Preprocessing**"
   ]
  },
  {
   "cell_type": "code",
   "execution_count": 6,
   "id": "ed8b2fa0",
   "metadata": {
    "execution": {
     "iopub.execute_input": "2024-02-16T19:38:56.501966Z",
     "iopub.status.busy": "2024-02-16T19:38:56.501702Z",
     "iopub.status.idle": "2024-02-16T19:38:56.557338Z",
     "shell.execute_reply": "2024-02-16T19:38:56.556610Z"
    },
    "papermill": {
     "duration": 0.072202,
     "end_time": "2024-02-16T19:38:56.559626",
     "exception": false,
     "start_time": "2024-02-16T19:38:56.487424",
     "status": "completed"
    },
    "tags": []
   },
   "outputs": [],
   "source": [
    "df =old_df.sample(200000,random_state=2) "
   ]
  },
  {
   "cell_type": "code",
   "execution_count": 7,
   "id": "73cc72df",
   "metadata": {
    "execution": {
     "iopub.execute_input": "2024-02-16T19:38:56.588117Z",
     "iopub.status.busy": "2024-02-16T19:38:56.587826Z",
     "iopub.status.idle": "2024-02-16T19:38:56.651737Z",
     "shell.execute_reply": "2024-02-16T19:38:56.650894Z"
    },
    "papermill": {
     "duration": 0.080231,
     "end_time": "2024-02-16T19:38:56.653606",
     "exception": false,
     "start_time": "2024-02-16T19:38:56.573375",
     "status": "completed"
    },
    "tags": []
   },
   "outputs": [
    {
     "data": {
      "text/plain": [
       "id              0\n",
       "qid1            0\n",
       "qid2            0\n",
       "question1       0\n",
       "question2       1\n",
       "is_duplicate    0\n",
       "dtype: int64"
      ]
     },
     "execution_count": 7,
     "metadata": {},
     "output_type": "execute_result"
    }
   ],
   "source": [
    "df.isnull().sum()"
   ]
  },
  {
   "cell_type": "code",
   "execution_count": 8,
   "id": "fffda482",
   "metadata": {
    "execution": {
     "iopub.execute_input": "2024-02-16T19:38:56.681866Z",
     "iopub.status.busy": "2024-02-16T19:38:56.681365Z",
     "iopub.status.idle": "2024-02-16T19:38:56.764094Z",
     "shell.execute_reply": "2024-02-16T19:38:56.763016Z"
    },
    "papermill": {
     "duration": 0.099266,
     "end_time": "2024-02-16T19:38:56.766363",
     "exception": false,
     "start_time": "2024-02-16T19:38:56.667097",
     "status": "completed"
    },
    "tags": []
   },
   "outputs": [],
   "source": [
    "df= df.dropna()"
   ]
  },
  {
   "cell_type": "code",
   "execution_count": 9,
   "id": "cccbb881",
   "metadata": {
    "execution": {
     "iopub.execute_input": "2024-02-16T19:38:56.794608Z",
     "iopub.status.busy": "2024-02-16T19:38:56.794297Z",
     "iopub.status.idle": "2024-02-16T19:38:56.851404Z",
     "shell.execute_reply": "2024-02-16T19:38:56.850494Z"
    },
    "papermill": {
     "duration": 0.073256,
     "end_time": "2024-02-16T19:38:56.853243",
     "exception": false,
     "start_time": "2024-02-16T19:38:56.779987",
     "status": "completed"
    },
    "tags": []
   },
   "outputs": [
    {
     "data": {
      "text/plain": [
       "id              0\n",
       "qid1            0\n",
       "qid2            0\n",
       "question1       0\n",
       "question2       0\n",
       "is_duplicate    0\n",
       "dtype: int64"
      ]
     },
     "execution_count": 9,
     "metadata": {},
     "output_type": "execute_result"
    }
   ],
   "source": [
    "df.isnull().sum()"
   ]
  },
  {
   "cell_type": "code",
   "execution_count": 10,
   "id": "f78aa790",
   "metadata": {
    "execution": {
     "iopub.execute_input": "2024-02-16T19:38:56.882412Z",
     "iopub.status.busy": "2024-02-16T19:38:56.882122Z",
     "iopub.status.idle": "2024-02-16T19:38:56.888308Z",
     "shell.execute_reply": "2024-02-16T19:38:56.887396Z"
    },
    "papermill": {
     "duration": 0.023385,
     "end_time": "2024-02-16T19:38:56.890306",
     "exception": false,
     "start_time": "2024-02-16T19:38:56.866921",
     "status": "completed"
    },
    "tags": []
   },
   "outputs": [
    {
     "data": {
      "text/plain": [
       "(199999, 6)"
      ]
     },
     "execution_count": 10,
     "metadata": {},
     "output_type": "execute_result"
    }
   ],
   "source": [
    "df.shape"
   ]
  },
  {
   "cell_type": "code",
   "execution_count": 11,
   "id": "363b3533",
   "metadata": {
    "execution": {
     "iopub.execute_input": "2024-02-16T19:38:56.922357Z",
     "iopub.status.busy": "2024-02-16T19:38:56.922073Z",
     "iopub.status.idle": "2024-02-16T19:38:56.944835Z",
     "shell.execute_reply": "2024-02-16T19:38:56.944025Z"
    },
    "papermill": {
     "duration": 0.042086,
     "end_time": "2024-02-16T19:38:56.946912",
     "exception": false,
     "start_time": "2024-02-16T19:38:56.904826",
     "status": "completed"
    },
    "tags": []
   },
   "outputs": [],
   "source": [
    "def preprocess(q):\n",
    "     \n",
    "    q = str(q).lower().strip()\n",
    "    \n",
    "    #Replaceing certain char with their string equivalent\n",
    "    q = q.replace('%', ' percent')\n",
    "    q = q.replace('$', ' dollar ')\n",
    "    q = q.replace('₹', ' rupee ')\n",
    "    q = q.replace('€', ' euro ')\n",
    "    q = q.replace('@', ' at ')\n",
    "    \n",
    "    #Replacing some no's with their string equivalent\n",
    "    q = q.replace(',000,000,000 ', 'b ')\n",
    "    q = q.replace(',000,000 ', 'm ')\n",
    "    q = q.replace(',000 ', 'k ')\n",
    "    q = re.sub(r'([0-9]+)000000000', r'\\1b', q)\n",
    "    q = re.sub(r'([0-9]+)000000', r'\\1m', q)\n",
    "    q = re.sub(r'([0-9]+)000', r'\\1k', q)\n",
    "    \n",
    "     # Decontracting words\n",
    "    # https://en.wikipedia.org/wiki/Wikipedia%3aList_of_English_contractions\n",
    "    contractions = { \n",
    "    \"ain't\": \"am not\",\n",
    "    \"aren't\": \"are not\",\n",
    "    \"can't\": \"can not\",\n",
    "    \"can't've\": \"can not have\",\n",
    "    \"'cause\": \"because\",\n",
    "    \"could've\": \"could have\",\n",
    "    \"couldn't\": \"could not\",\n",
    "    \"couldn't've\": \"could not have\",\n",
    "    \"didn't\": \"did not\",\n",
    "    \"doesn't\": \"does not\",\n",
    "    \"don't\": \"do not\",\n",
    "    \"hadn't\": \"had not\",\n",
    "    \"hadn't've\": \"had not have\",\n",
    "    \"hasn't\": \"has not\",\n",
    "    \"haven't\": \"have not\",\n",
    "    \"he'd\": \"he would\",\n",
    "    \"he'd've\": \"he would have\",\n",
    "    \"he'll\": \"he will\",\n",
    "    \"he'll've\": \"he will have\",\n",
    "    \"he's\": \"he is\",\n",
    "    \"how'd\": \"how did\",\n",
    "    \"how'd'y\": \"how do you\",\n",
    "    \"how'll\": \"how will\",\n",
    "    \"how's\": \"how is\",\n",
    "    \"i'd\": \"i would\",\n",
    "    \"i'd've\": \"i would have\",\n",
    "    \"i'll\": \"i will\",\n",
    "    \"i'll've\": \"i will have\",\n",
    "    \"i'm\": \"i am\",\n",
    "    \"i've\": \"i have\",\n",
    "    \"isn't\": \"is not\",\n",
    "    \"it'd\": \"it would\",\n",
    "    \"it'd've\": \"it would have\",\n",
    "    \"it'll\": \"it will\",\n",
    "    \"it'll've\": \"it will have\",\n",
    "    \"it's\": \"it is\",\n",
    "    \"let's\": \"let us\",\n",
    "    \"ma'am\": \"madam\",\n",
    "    \"mayn't\": \"may not\",\n",
    "    \"might've\": \"might have\",\n",
    "    \"mightn't\": \"might not\",\n",
    "    \"mightn't've\": \"might not have\",\n",
    "    \"must've\": \"must have\",\n",
    "    \"mustn't\": \"must not\",\n",
    "    \"mustn't've\": \"must not have\",\n",
    "    \"needn't\": \"need not\",\n",
    "    \"needn't've\": \"need not have\",\n",
    "    \"o'clock\": \"of the clock\",\n",
    "    \"oughtn't\": \"ought not\",\n",
    "    \"oughtn't've\": \"ought not have\",\n",
    "    \"shan't\": \"shall not\",\n",
    "    \"sha'n't\": \"shall not\",\n",
    "    \"shan't've\": \"shall not have\",\n",
    "    \"she'd\": \"she would\",\n",
    "    \"she'd've\": \"she would have\",\n",
    "    \"she'll\": \"she will\",\n",
    "    \"she'll've\": \"she will have\",\n",
    "    \"she's\": \"she is\",\n",
    "    \"should've\": \"should have\",\n",
    "    \"shouldn't\": \"should not\",\n",
    "    \"shouldn't've\": \"should not have\",\n",
    "    \"so've\": \"so have\",\n",
    "    \"so's\": \"so as\",\n",
    "    \"that'd\": \"that would\",\n",
    "    \"that'd've\": \"that would have\",\n",
    "    \"that's\": \"that is\",\n",
    "    \"there'd\": \"there would\",\n",
    "    \"there'd've\": \"there would have\",\n",
    "    \"there's\": \"there is\",\n",
    "    \"they'd\": \"they would\",\n",
    "    \"they'd've\": \"they would have\",\n",
    "    \"they'll\": \"they will\",\n",
    "    \"they'll've\": \"they will have\",\n",
    "    \"they're\": \"they are\",\n",
    "    \"they've\": \"they have\",\n",
    "    \"to've\": \"to have\",\n",
    "    \"wasn't\": \"was not\",\n",
    "    \"we'd\": \"we would\",\n",
    "    \"we'd've\": \"we would have\",\n",
    "    \"we'll\": \"we will\",\n",
    "    \"we'll've\": \"we will have\",\n",
    "    \"we're\": \"we are\",\n",
    "    \"we've\": \"we have\",\n",
    "    \"weren't\": \"were not\",\n",
    "    \"what'll\": \"what will\",\n",
    "    \"what'll've\": \"what will have\",\n",
    "    \"what're\": \"what are\",\n",
    "    \"what's\": \"what is\",\n",
    "    \"what've\": \"what have\",\n",
    "    \"when's\": \"when is\",\n",
    "    \"when've\": \"when have\",\n",
    "    \"where'd\": \"where did\",\n",
    "    \"where's\": \"where is\",\n",
    "    \"where've\": \"where have\",\n",
    "    \"who'll\": \"who will\",\n",
    "    \"who'll've\": \"who will have\",\n",
    "    \"who's\": \"who is\",\n",
    "    \"who've\": \"who have\",\n",
    "    \"why's\": \"why is\",\n",
    "    \"why've\": \"why have\",\n",
    "    \"will've\": \"will have\",\n",
    "    \"won't\": \"will not\",\n",
    "    \"won't've\": \"will not have\",\n",
    "    \"would've\": \"would have\",\n",
    "    \"wouldn't\": \"would not\",\n",
    "    \"wouldn't've\": \"would not have\",\n",
    "    \"y'all\": \"you all\",\n",
    "    \"y'all'd\": \"you all would\",\n",
    "    \"y'all'd've\": \"you all would have\",\n",
    "    \"y'all're\": \"you all are\",\n",
    "    \"y'all've\": \"you all have\",\n",
    "    \"you'd\": \"you would\",\n",
    "    \"you'd've\": \"you would have\",\n",
    "    \"you'll\": \"you will\",\n",
    "    \"you'll've\": \"you will have\",\n",
    "    \"you're\": \"you are\",\n",
    "    \"you've\": \"you have\"\n",
    "    }\n",
    "    \n",
    "    q_decontracted= []\n",
    "    \n",
    "    for word in q.split():\n",
    "        if word in contractions:\n",
    "            word= contractions[word]\n",
    "            \n",
    "    q_decontracted.append(word)\n",
    "    \n",
    "    q = ''.join(q_decontracted)\n",
    "    q= q.replace(\"'ve\",\"have\")\n",
    "    q = q.replace(\"n't\", \" not\")\n",
    "    q = q.replace(\"'re\", \" are\")\n",
    "    q = q.replace(\"'ll\", \" will\")\n",
    "    \n",
    "    #removing HTML tags\n",
    "    q = BeautifulSoup(q)\n",
    "    q = q.get_text()\n",
    "    \n",
    "    #remove punctuations\n",
    "    pattern = re.compile('\\W')\n",
    "    q = re.sub(pattern,' ',q).strip()\n",
    "    \n",
    "    return q\n",
    "    \n",
    "    "
   ]
  },
  {
   "cell_type": "code",
   "execution_count": 12,
   "id": "7f7dd2c5",
   "metadata": {
    "execution": {
     "iopub.execute_input": "2024-02-16T19:38:56.978530Z",
     "iopub.status.busy": "2024-02-16T19:38:56.977999Z",
     "iopub.status.idle": "2024-02-16T19:40:27.841988Z",
     "shell.execute_reply": "2024-02-16T19:40:27.841192Z"
    },
    "papermill": {
     "duration": 90.881779,
     "end_time": "2024-02-16T19:40:27.844306",
     "exception": false,
     "start_time": "2024-02-16T19:38:56.962527",
     "status": "completed"
    },
    "tags": []
   },
   "outputs": [],
   "source": [
    "df['question1'] =df['question1'].apply(preprocess)\n",
    "df['question2']= df['question2'].apply(preprocess)"
   ]
  },
  {
   "cell_type": "code",
   "execution_count": 13,
   "id": "41d323ad",
   "metadata": {
    "execution": {
     "iopub.execute_input": "2024-02-16T19:40:27.873914Z",
     "iopub.status.busy": "2024-02-16T19:40:27.873628Z",
     "iopub.status.idle": "2024-02-16T19:40:27.884300Z",
     "shell.execute_reply": "2024-02-16T19:40:27.883513Z"
    },
    "papermill": {
     "duration": 0.027434,
     "end_time": "2024-02-16T19:40:27.886101",
     "exception": false,
     "start_time": "2024-02-16T19:40:27.858667",
     "status": "completed"
    },
    "tags": []
   },
   "outputs": [
    {
     "data": {
      "text/html": [
       "<div>\n",
       "<style scoped>\n",
       "    .dataframe tbody tr th:only-of-type {\n",
       "        vertical-align: middle;\n",
       "    }\n",
       "\n",
       "    .dataframe tbody tr th {\n",
       "        vertical-align: top;\n",
       "    }\n",
       "\n",
       "    .dataframe thead th {\n",
       "        text-align: right;\n",
       "    }\n",
       "</style>\n",
       "<table border=\"1\" class=\"dataframe\">\n",
       "  <thead>\n",
       "    <tr style=\"text-align: right;\">\n",
       "      <th></th>\n",
       "      <th>id</th>\n",
       "      <th>qid1</th>\n",
       "      <th>qid2</th>\n",
       "      <th>question1</th>\n",
       "      <th>question2</th>\n",
       "      <th>is_duplicate</th>\n",
       "    </tr>\n",
       "  </thead>\n",
       "  <tbody>\n",
       "    <tr>\n",
       "      <th>398782</th>\n",
       "      <td>398782</td>\n",
       "      <td>496695</td>\n",
       "      <td>532029</td>\n",
       "      <td>companies</td>\n",
       "      <td>companies</td>\n",
       "      <td>1</td>\n",
       "    </tr>\n",
       "    <tr>\n",
       "      <th>115086</th>\n",
       "      <td>115086</td>\n",
       "      <td>187729</td>\n",
       "      <td>187730</td>\n",
       "      <td>do</td>\n",
       "      <td>do</td>\n",
       "      <td>0</td>\n",
       "    </tr>\n",
       "    <tr>\n",
       "      <th>327711</th>\n",
       "      <td>327711</td>\n",
       "      <td>454161</td>\n",
       "      <td>454162</td>\n",
       "      <td>that</td>\n",
       "      <td>shit</td>\n",
       "      <td>0</td>\n",
       "    </tr>\n",
       "    <tr>\n",
       "      <th>367788</th>\n",
       "      <td>367788</td>\n",
       "      <td>498109</td>\n",
       "      <td>491396</td>\n",
       "      <td>states</td>\n",
       "      <td>psychopath</td>\n",
       "      <td>0</td>\n",
       "    </tr>\n",
       "    <tr>\n",
       "      <th>151235</th>\n",
       "      <td>151235</td>\n",
       "      <td>237843</td>\n",
       "      <td>50930</td>\n",
       "      <td>tragedy</td>\n",
       "      <td>tragedy</td>\n",
       "      <td>0</td>\n",
       "    </tr>\n",
       "  </tbody>\n",
       "</table>\n",
       "</div>"
      ],
      "text/plain": [
       "            id    qid1    qid2  question1   question2  is_duplicate\n",
       "398782  398782  496695  532029  companies   companies             1\n",
       "115086  115086  187729  187730         do          do             0\n",
       "327711  327711  454161  454162       that        shit             0\n",
       "367788  367788  498109  491396     states  psychopath             0\n",
       "151235  151235  237843   50930    tragedy     tragedy             0"
      ]
     },
     "execution_count": 13,
     "metadata": {},
     "output_type": "execute_result"
    }
   ],
   "source": [
    "df.head()"
   ]
  },
  {
   "cell_type": "markdown",
   "id": "f316ebb0",
   "metadata": {
    "papermill": {
     "duration": 0.013873,
     "end_time": "2024-02-16T19:40:27.913699",
     "exception": false,
     "start_time": "2024-02-16T19:40:27.899826",
     "status": "completed"
    },
    "tags": []
   },
   "source": [
    "# **Feature Engineering**"
   ]
  },
  {
   "cell_type": "code",
   "execution_count": 14,
   "id": "4e889dcb",
   "metadata": {
    "execution": {
     "iopub.execute_input": "2024-02-16T19:40:27.942131Z",
     "iopub.status.busy": "2024-02-16T19:40:27.941857Z",
     "iopub.status.idle": "2024-02-16T19:40:28.195774Z",
     "shell.execute_reply": "2024-02-16T19:40:28.194956Z"
    },
    "papermill": {
     "duration": 0.27105,
     "end_time": "2024-02-16T19:40:28.198374",
     "exception": false,
     "start_time": "2024-02-16T19:40:27.927324",
     "status": "completed"
    },
    "tags": []
   },
   "outputs": [],
   "source": [
    "#creating 2 new features to contain the length of ques1 and ques2\n",
    "df['q1_len'] = df['question1'].str.len()\n",
    "df['q2_len'] = df['question2'].str.len()"
   ]
  },
  {
   "cell_type": "code",
   "execution_count": 15,
   "id": "55739a84",
   "metadata": {
    "execution": {
     "iopub.execute_input": "2024-02-16T19:40:28.229859Z",
     "iopub.status.busy": "2024-02-16T19:40:28.229521Z",
     "iopub.status.idle": "2024-02-16T19:40:28.552688Z",
     "shell.execute_reply": "2024-02-16T19:40:28.551457Z"
    },
    "papermill": {
     "duration": 0.341302,
     "end_time": "2024-02-16T19:40:28.554927",
     "exception": false,
     "start_time": "2024-02-16T19:40:28.213625",
     "status": "completed"
    },
    "tags": []
   },
   "outputs": [
    {
     "data": {
      "text/html": [
       "<div>\n",
       "<style scoped>\n",
       "    .dataframe tbody tr th:only-of-type {\n",
       "        vertical-align: middle;\n",
       "    }\n",
       "\n",
       "    .dataframe tbody tr th {\n",
       "        vertical-align: top;\n",
       "    }\n",
       "\n",
       "    .dataframe thead th {\n",
       "        text-align: right;\n",
       "    }\n",
       "</style>\n",
       "<table border=\"1\" class=\"dataframe\">\n",
       "  <thead>\n",
       "    <tr style=\"text-align: right;\">\n",
       "      <th></th>\n",
       "      <th>id</th>\n",
       "      <th>qid1</th>\n",
       "      <th>qid2</th>\n",
       "      <th>question1</th>\n",
       "      <th>question2</th>\n",
       "      <th>is_duplicate</th>\n",
       "      <th>q1_len</th>\n",
       "      <th>q2_len</th>\n",
       "      <th>q1_num_words</th>\n",
       "      <th>q2_num_words</th>\n",
       "    </tr>\n",
       "  </thead>\n",
       "  <tbody>\n",
       "    <tr>\n",
       "      <th>398782</th>\n",
       "      <td>398782</td>\n",
       "      <td>496695</td>\n",
       "      <td>532029</td>\n",
       "      <td>companies</td>\n",
       "      <td>companies</td>\n",
       "      <td>1</td>\n",
       "      <td>9</td>\n",
       "      <td>9</td>\n",
       "      <td>1</td>\n",
       "      <td>1</td>\n",
       "    </tr>\n",
       "    <tr>\n",
       "      <th>115086</th>\n",
       "      <td>115086</td>\n",
       "      <td>187729</td>\n",
       "      <td>187730</td>\n",
       "      <td>do</td>\n",
       "      <td>do</td>\n",
       "      <td>0</td>\n",
       "      <td>2</td>\n",
       "      <td>2</td>\n",
       "      <td>1</td>\n",
       "      <td>1</td>\n",
       "    </tr>\n",
       "    <tr>\n",
       "      <th>327711</th>\n",
       "      <td>327711</td>\n",
       "      <td>454161</td>\n",
       "      <td>454162</td>\n",
       "      <td>that</td>\n",
       "      <td>shit</td>\n",
       "      <td>0</td>\n",
       "      <td>4</td>\n",
       "      <td>4</td>\n",
       "      <td>1</td>\n",
       "      <td>1</td>\n",
       "    </tr>\n",
       "    <tr>\n",
       "      <th>367788</th>\n",
       "      <td>367788</td>\n",
       "      <td>498109</td>\n",
       "      <td>491396</td>\n",
       "      <td>states</td>\n",
       "      <td>psychopath</td>\n",
       "      <td>0</td>\n",
       "      <td>6</td>\n",
       "      <td>10</td>\n",
       "      <td>1</td>\n",
       "      <td>1</td>\n",
       "    </tr>\n",
       "    <tr>\n",
       "      <th>151235</th>\n",
       "      <td>151235</td>\n",
       "      <td>237843</td>\n",
       "      <td>50930</td>\n",
       "      <td>tragedy</td>\n",
       "      <td>tragedy</td>\n",
       "      <td>0</td>\n",
       "      <td>7</td>\n",
       "      <td>7</td>\n",
       "      <td>1</td>\n",
       "      <td>1</td>\n",
       "    </tr>\n",
       "  </tbody>\n",
       "</table>\n",
       "</div>"
      ],
      "text/plain": [
       "            id    qid1    qid2  question1   question2  is_duplicate  q1_len  \\\n",
       "398782  398782  496695  532029  companies   companies             1       9   \n",
       "115086  115086  187729  187730         do          do             0       2   \n",
       "327711  327711  454161  454162       that        shit             0       4   \n",
       "367788  367788  498109  491396     states  psychopath             0       6   \n",
       "151235  151235  237843   50930    tragedy     tragedy             0       7   \n",
       "\n",
       "        q2_len  q1_num_words  q2_num_words  \n",
       "398782       9             1             1  \n",
       "115086       2             1             1  \n",
       "327711       4             1             1  \n",
       "367788      10             1             1  \n",
       "151235       7             1             1  "
      ]
     },
     "execution_count": 15,
     "metadata": {},
     "output_type": "execute_result"
    }
   ],
   "source": [
    "#creating 2 new features to get the number of words in each ques1 and ques2 respectively\n",
    "df['q1_num_words'] = df['question1'].apply(lambda row: len(row.split(\" \")))\n",
    "df['q2_num_words'] = df['question2'].apply(lambda row: len(row.split(\" \")))\n",
    "df.head()\n",
    "\n",
    "#there are some flotting and NAN values in the dataset to avoid them use this-> (if pd.notna(row) else 0) ; here we have already droped those rows "
   ]
  },
  {
   "cell_type": "code",
   "execution_count": 16,
   "id": "3659717f",
   "metadata": {
    "execution": {
     "iopub.execute_input": "2024-02-16T19:40:28.584937Z",
     "iopub.status.busy": "2024-02-16T19:40:28.584399Z",
     "iopub.status.idle": "2024-02-16T19:40:28.589954Z",
     "shell.execute_reply": "2024-02-16T19:40:28.589018Z"
    },
    "papermill": {
     "duration": 0.02256,
     "end_time": "2024-02-16T19:40:28.592119",
     "exception": false,
     "start_time": "2024-02-16T19:40:28.569559",
     "status": "completed"
    },
    "tags": []
   },
   "outputs": [],
   "source": [
    "#function to return the common words in both ques ->adding new feature as word_common\n",
    "def common_words(row):\n",
    "    w1 = set(map(lambda word: word.lower().strip(), row['question1'].split(\" \")))\n",
    "    w2 = set(map(lambda word: word.lower().strip(), row['question2'].split(\" \")))\n",
    "    return len(w1&w2)"
   ]
  },
  {
   "cell_type": "code",
   "execution_count": 17,
   "id": "f6849476",
   "metadata": {
    "execution": {
     "iopub.execute_input": "2024-02-16T19:40:28.621525Z",
     "iopub.status.busy": "2024-02-16T19:40:28.621248Z",
     "iopub.status.idle": "2024-02-16T19:40:32.425955Z",
     "shell.execute_reply": "2024-02-16T19:40:32.425049Z"
    },
    "papermill": {
     "duration": 3.821739,
     "end_time": "2024-02-16T19:40:32.428077",
     "exception": false,
     "start_time": "2024-02-16T19:40:28.606338",
     "status": "completed"
    },
    "tags": []
   },
   "outputs": [
    {
     "data": {
      "text/html": [
       "<div>\n",
       "<style scoped>\n",
       "    .dataframe tbody tr th:only-of-type {\n",
       "        vertical-align: middle;\n",
       "    }\n",
       "\n",
       "    .dataframe tbody tr th {\n",
       "        vertical-align: top;\n",
       "    }\n",
       "\n",
       "    .dataframe thead th {\n",
       "        text-align: right;\n",
       "    }\n",
       "</style>\n",
       "<table border=\"1\" class=\"dataframe\">\n",
       "  <thead>\n",
       "    <tr style=\"text-align: right;\">\n",
       "      <th></th>\n",
       "      <th>id</th>\n",
       "      <th>qid1</th>\n",
       "      <th>qid2</th>\n",
       "      <th>question1</th>\n",
       "      <th>question2</th>\n",
       "      <th>is_duplicate</th>\n",
       "      <th>q1_len</th>\n",
       "      <th>q2_len</th>\n",
       "      <th>q1_num_words</th>\n",
       "      <th>q2_num_words</th>\n",
       "      <th>word_common</th>\n",
       "    </tr>\n",
       "  </thead>\n",
       "  <tbody>\n",
       "    <tr>\n",
       "      <th>398782</th>\n",
       "      <td>398782</td>\n",
       "      <td>496695</td>\n",
       "      <td>532029</td>\n",
       "      <td>companies</td>\n",
       "      <td>companies</td>\n",
       "      <td>1</td>\n",
       "      <td>9</td>\n",
       "      <td>9</td>\n",
       "      <td>1</td>\n",
       "      <td>1</td>\n",
       "      <td>1</td>\n",
       "    </tr>\n",
       "    <tr>\n",
       "      <th>115086</th>\n",
       "      <td>115086</td>\n",
       "      <td>187729</td>\n",
       "      <td>187730</td>\n",
       "      <td>do</td>\n",
       "      <td>do</td>\n",
       "      <td>0</td>\n",
       "      <td>2</td>\n",
       "      <td>2</td>\n",
       "      <td>1</td>\n",
       "      <td>1</td>\n",
       "      <td>1</td>\n",
       "    </tr>\n",
       "    <tr>\n",
       "      <th>327711</th>\n",
       "      <td>327711</td>\n",
       "      <td>454161</td>\n",
       "      <td>454162</td>\n",
       "      <td>that</td>\n",
       "      <td>shit</td>\n",
       "      <td>0</td>\n",
       "      <td>4</td>\n",
       "      <td>4</td>\n",
       "      <td>1</td>\n",
       "      <td>1</td>\n",
       "      <td>0</td>\n",
       "    </tr>\n",
       "    <tr>\n",
       "      <th>367788</th>\n",
       "      <td>367788</td>\n",
       "      <td>498109</td>\n",
       "      <td>491396</td>\n",
       "      <td>states</td>\n",
       "      <td>psychopath</td>\n",
       "      <td>0</td>\n",
       "      <td>6</td>\n",
       "      <td>10</td>\n",
       "      <td>1</td>\n",
       "      <td>1</td>\n",
       "      <td>0</td>\n",
       "    </tr>\n",
       "    <tr>\n",
       "      <th>151235</th>\n",
       "      <td>151235</td>\n",
       "      <td>237843</td>\n",
       "      <td>50930</td>\n",
       "      <td>tragedy</td>\n",
       "      <td>tragedy</td>\n",
       "      <td>0</td>\n",
       "      <td>7</td>\n",
       "      <td>7</td>\n",
       "      <td>1</td>\n",
       "      <td>1</td>\n",
       "      <td>1</td>\n",
       "    </tr>\n",
       "  </tbody>\n",
       "</table>\n",
       "</div>"
      ],
      "text/plain": [
       "            id    qid1    qid2  question1   question2  is_duplicate  q1_len  \\\n",
       "398782  398782  496695  532029  companies   companies             1       9   \n",
       "115086  115086  187729  187730         do          do             0       2   \n",
       "327711  327711  454161  454162       that        shit             0       4   \n",
       "367788  367788  498109  491396     states  psychopath             0       6   \n",
       "151235  151235  237843   50930    tragedy     tragedy             0       7   \n",
       "\n",
       "        q2_len  q1_num_words  q2_num_words  word_common  \n",
       "398782       9             1             1            1  \n",
       "115086       2             1             1            1  \n",
       "327711       4             1             1            0  \n",
       "367788      10             1             1            0  \n",
       "151235       7             1             1            1  "
      ]
     },
     "execution_count": 17,
     "metadata": {},
     "output_type": "execute_result"
    }
   ],
   "source": [
    "df['word_common'] = df.apply(common_words, axis=1)\n",
    "df.head()"
   ]
  },
  {
   "cell_type": "code",
   "execution_count": 18,
   "id": "316bfc0a",
   "metadata": {
    "execution": {
     "iopub.execute_input": "2024-02-16T19:40:32.458499Z",
     "iopub.status.busy": "2024-02-16T19:40:32.458165Z",
     "iopub.status.idle": "2024-02-16T19:40:32.463414Z",
     "shell.execute_reply": "2024-02-16T19:40:32.462665Z"
    },
    "papermill": {
     "duration": 0.022701,
     "end_time": "2024-02-16T19:40:32.465266",
     "exception": false,
     "start_time": "2024-02-16T19:40:32.442565",
     "status": "completed"
    },
    "tags": []
   },
   "outputs": [],
   "source": [
    "#function to return the total words in both ques ->adding new feature as total_words\n",
    "def total_words(row):\n",
    "    w1= set(map(lambda word: word.lower().strip(),row['question1'].split(\" \")))\n",
    "    w2 = set(map(lambda word: word.lower().strip(),row['question2'].split(\" \")))\n",
    "    return (len(w1)+ len(w2))"
   ]
  },
  {
   "cell_type": "code",
   "execution_count": 19,
   "id": "a2d1227e",
   "metadata": {
    "execution": {
     "iopub.execute_input": "2024-02-16T19:40:32.495315Z",
     "iopub.status.busy": "2024-02-16T19:40:32.495046Z",
     "iopub.status.idle": "2024-02-16T19:40:36.205168Z",
     "shell.execute_reply": "2024-02-16T19:40:36.204183Z"
    },
    "papermill": {
     "duration": 3.727986,
     "end_time": "2024-02-16T19:40:36.207650",
     "exception": false,
     "start_time": "2024-02-16T19:40:32.479664",
     "status": "completed"
    },
    "tags": []
   },
   "outputs": [
    {
     "data": {
      "text/html": [
       "<div>\n",
       "<style scoped>\n",
       "    .dataframe tbody tr th:only-of-type {\n",
       "        vertical-align: middle;\n",
       "    }\n",
       "\n",
       "    .dataframe tbody tr th {\n",
       "        vertical-align: top;\n",
       "    }\n",
       "\n",
       "    .dataframe thead th {\n",
       "        text-align: right;\n",
       "    }\n",
       "</style>\n",
       "<table border=\"1\" class=\"dataframe\">\n",
       "  <thead>\n",
       "    <tr style=\"text-align: right;\">\n",
       "      <th></th>\n",
       "      <th>id</th>\n",
       "      <th>qid1</th>\n",
       "      <th>qid2</th>\n",
       "      <th>question1</th>\n",
       "      <th>question2</th>\n",
       "      <th>is_duplicate</th>\n",
       "      <th>q1_len</th>\n",
       "      <th>q2_len</th>\n",
       "      <th>q1_num_words</th>\n",
       "      <th>q2_num_words</th>\n",
       "      <th>word_common</th>\n",
       "      <th>word_total</th>\n",
       "    </tr>\n",
       "  </thead>\n",
       "  <tbody>\n",
       "    <tr>\n",
       "      <th>398782</th>\n",
       "      <td>398782</td>\n",
       "      <td>496695</td>\n",
       "      <td>532029</td>\n",
       "      <td>companies</td>\n",
       "      <td>companies</td>\n",
       "      <td>1</td>\n",
       "      <td>9</td>\n",
       "      <td>9</td>\n",
       "      <td>1</td>\n",
       "      <td>1</td>\n",
       "      <td>1</td>\n",
       "      <td>2</td>\n",
       "    </tr>\n",
       "    <tr>\n",
       "      <th>115086</th>\n",
       "      <td>115086</td>\n",
       "      <td>187729</td>\n",
       "      <td>187730</td>\n",
       "      <td>do</td>\n",
       "      <td>do</td>\n",
       "      <td>0</td>\n",
       "      <td>2</td>\n",
       "      <td>2</td>\n",
       "      <td>1</td>\n",
       "      <td>1</td>\n",
       "      <td>1</td>\n",
       "      <td>2</td>\n",
       "    </tr>\n",
       "    <tr>\n",
       "      <th>327711</th>\n",
       "      <td>327711</td>\n",
       "      <td>454161</td>\n",
       "      <td>454162</td>\n",
       "      <td>that</td>\n",
       "      <td>shit</td>\n",
       "      <td>0</td>\n",
       "      <td>4</td>\n",
       "      <td>4</td>\n",
       "      <td>1</td>\n",
       "      <td>1</td>\n",
       "      <td>0</td>\n",
       "      <td>2</td>\n",
       "    </tr>\n",
       "    <tr>\n",
       "      <th>367788</th>\n",
       "      <td>367788</td>\n",
       "      <td>498109</td>\n",
       "      <td>491396</td>\n",
       "      <td>states</td>\n",
       "      <td>psychopath</td>\n",
       "      <td>0</td>\n",
       "      <td>6</td>\n",
       "      <td>10</td>\n",
       "      <td>1</td>\n",
       "      <td>1</td>\n",
       "      <td>0</td>\n",
       "      <td>2</td>\n",
       "    </tr>\n",
       "    <tr>\n",
       "      <th>151235</th>\n",
       "      <td>151235</td>\n",
       "      <td>237843</td>\n",
       "      <td>50930</td>\n",
       "      <td>tragedy</td>\n",
       "      <td>tragedy</td>\n",
       "      <td>0</td>\n",
       "      <td>7</td>\n",
       "      <td>7</td>\n",
       "      <td>1</td>\n",
       "      <td>1</td>\n",
       "      <td>1</td>\n",
       "      <td>2</td>\n",
       "    </tr>\n",
       "  </tbody>\n",
       "</table>\n",
       "</div>"
      ],
      "text/plain": [
       "            id    qid1    qid2  question1   question2  is_duplicate  q1_len  \\\n",
       "398782  398782  496695  532029  companies   companies             1       9   \n",
       "115086  115086  187729  187730         do          do             0       2   \n",
       "327711  327711  454161  454162       that        shit             0       4   \n",
       "367788  367788  498109  491396     states  psychopath             0       6   \n",
       "151235  151235  237843   50930    tragedy     tragedy             0       7   \n",
       "\n",
       "        q2_len  q1_num_words  q2_num_words  word_common  word_total  \n",
       "398782       9             1             1            1           2  \n",
       "115086       2             1             1            1           2  \n",
       "327711       4             1             1            0           2  \n",
       "367788      10             1             1            0           2  \n",
       "151235       7             1             1            1           2  "
      ]
     },
     "execution_count": 19,
     "metadata": {},
     "output_type": "execute_result"
    }
   ],
   "source": [
    "df['word_total'] = df.apply(total_words, axis=1)\n",
    "df.head()"
   ]
  },
  {
   "cell_type": "code",
   "execution_count": 20,
   "id": "878456a6",
   "metadata": {
    "execution": {
     "iopub.execute_input": "2024-02-16T19:40:36.242460Z",
     "iopub.status.busy": "2024-02-16T19:40:36.242148Z",
     "iopub.status.idle": "2024-02-16T19:40:36.258807Z",
     "shell.execute_reply": "2024-02-16T19:40:36.257880Z"
    },
    "papermill": {
     "duration": 0.035579,
     "end_time": "2024-02-16T19:40:36.260691",
     "exception": false,
     "start_time": "2024-02-16T19:40:36.225112",
     "status": "completed"
    },
    "tags": []
   },
   "outputs": [
    {
     "data": {
      "text/html": [
       "<div>\n",
       "<style scoped>\n",
       "    .dataframe tbody tr th:only-of-type {\n",
       "        vertical-align: middle;\n",
       "    }\n",
       "\n",
       "    .dataframe tbody tr th {\n",
       "        vertical-align: top;\n",
       "    }\n",
       "\n",
       "    .dataframe thead th {\n",
       "        text-align: right;\n",
       "    }\n",
       "</style>\n",
       "<table border=\"1\" class=\"dataframe\">\n",
       "  <thead>\n",
       "    <tr style=\"text-align: right;\">\n",
       "      <th></th>\n",
       "      <th>id</th>\n",
       "      <th>qid1</th>\n",
       "      <th>qid2</th>\n",
       "      <th>question1</th>\n",
       "      <th>question2</th>\n",
       "      <th>is_duplicate</th>\n",
       "      <th>q1_len</th>\n",
       "      <th>q2_len</th>\n",
       "      <th>q1_num_words</th>\n",
       "      <th>q2_num_words</th>\n",
       "      <th>word_common</th>\n",
       "      <th>word_total</th>\n",
       "      <th>word_share</th>\n",
       "    </tr>\n",
       "  </thead>\n",
       "  <tbody>\n",
       "    <tr>\n",
       "      <th>398782</th>\n",
       "      <td>398782</td>\n",
       "      <td>496695</td>\n",
       "      <td>532029</td>\n",
       "      <td>companies</td>\n",
       "      <td>companies</td>\n",
       "      <td>1</td>\n",
       "      <td>9</td>\n",
       "      <td>9</td>\n",
       "      <td>1</td>\n",
       "      <td>1</td>\n",
       "      <td>1</td>\n",
       "      <td>2</td>\n",
       "      <td>0.5</td>\n",
       "    </tr>\n",
       "    <tr>\n",
       "      <th>115086</th>\n",
       "      <td>115086</td>\n",
       "      <td>187729</td>\n",
       "      <td>187730</td>\n",
       "      <td>do</td>\n",
       "      <td>do</td>\n",
       "      <td>0</td>\n",
       "      <td>2</td>\n",
       "      <td>2</td>\n",
       "      <td>1</td>\n",
       "      <td>1</td>\n",
       "      <td>1</td>\n",
       "      <td>2</td>\n",
       "      <td>0.5</td>\n",
       "    </tr>\n",
       "    <tr>\n",
       "      <th>327711</th>\n",
       "      <td>327711</td>\n",
       "      <td>454161</td>\n",
       "      <td>454162</td>\n",
       "      <td>that</td>\n",
       "      <td>shit</td>\n",
       "      <td>0</td>\n",
       "      <td>4</td>\n",
       "      <td>4</td>\n",
       "      <td>1</td>\n",
       "      <td>1</td>\n",
       "      <td>0</td>\n",
       "      <td>2</td>\n",
       "      <td>0.0</td>\n",
       "    </tr>\n",
       "    <tr>\n",
       "      <th>367788</th>\n",
       "      <td>367788</td>\n",
       "      <td>498109</td>\n",
       "      <td>491396</td>\n",
       "      <td>states</td>\n",
       "      <td>psychopath</td>\n",
       "      <td>0</td>\n",
       "      <td>6</td>\n",
       "      <td>10</td>\n",
       "      <td>1</td>\n",
       "      <td>1</td>\n",
       "      <td>0</td>\n",
       "      <td>2</td>\n",
       "      <td>0.0</td>\n",
       "    </tr>\n",
       "    <tr>\n",
       "      <th>151235</th>\n",
       "      <td>151235</td>\n",
       "      <td>237843</td>\n",
       "      <td>50930</td>\n",
       "      <td>tragedy</td>\n",
       "      <td>tragedy</td>\n",
       "      <td>0</td>\n",
       "      <td>7</td>\n",
       "      <td>7</td>\n",
       "      <td>1</td>\n",
       "      <td>1</td>\n",
       "      <td>1</td>\n",
       "      <td>2</td>\n",
       "      <td>0.5</td>\n",
       "    </tr>\n",
       "  </tbody>\n",
       "</table>\n",
       "</div>"
      ],
      "text/plain": [
       "            id    qid1    qid2  question1   question2  is_duplicate  q1_len  \\\n",
       "398782  398782  496695  532029  companies   companies             1       9   \n",
       "115086  115086  187729  187730         do          do             0       2   \n",
       "327711  327711  454161  454162       that        shit             0       4   \n",
       "367788  367788  498109  491396     states  psychopath             0       6   \n",
       "151235  151235  237843   50930    tragedy     tragedy             0       7   \n",
       "\n",
       "        q2_len  q1_num_words  q2_num_words  word_common  word_total  \\\n",
       "398782       9             1             1            1           2   \n",
       "115086       2             1             1            1           2   \n",
       "327711       4             1             1            0           2   \n",
       "367788      10             1             1            0           2   \n",
       "151235       7             1             1            1           2   \n",
       "\n",
       "        word_share  \n",
       "398782         0.5  \n",
       "115086         0.5  \n",
       "327711         0.0  \n",
       "367788         0.0  \n",
       "151235         0.5  "
      ]
     },
     "execution_count": 20,
     "metadata": {},
     "output_type": "execute_result"
    }
   ],
   "source": [
    "df['word_share'] = round(df['word_common']/df['word_total'],2)\n",
    "df.head()"
   ]
  },
  {
   "cell_type": "markdown",
   "id": "f730be19",
   "metadata": {
    "papermill": {
     "duration": 0.014894,
     "end_time": "2024-02-16T19:40:36.332010",
     "exception": false,
     "start_time": "2024-02-16T19:40:36.317116",
     "status": "completed"
    },
    "tags": []
   },
   "source": [
    "**Creating Advance Features**"
   ]
  },
  {
   "cell_type": "code",
   "execution_count": 21,
   "id": "93bfa4f2",
   "metadata": {
    "execution": {
     "iopub.execute_input": "2024-02-16T19:40:36.362876Z",
     "iopub.status.busy": "2024-02-16T19:40:36.362555Z",
     "iopub.status.idle": "2024-02-16T19:40:37.716284Z",
     "shell.execute_reply": "2024-02-16T19:40:37.715525Z"
    },
    "papermill": {
     "duration": 1.37206,
     "end_time": "2024-02-16T19:40:37.718666",
     "exception": false,
     "start_time": "2024-02-16T19:40:36.346606",
     "status": "completed"
    },
    "tags": []
   },
   "outputs": [],
   "source": [
    "from nltk.corpus import stopwords\n",
    "\n",
    "def fetch_token_features(row):\n",
    "    \n",
    "    q1 = row['question1']\n",
    "    q2 = row['question2']\n",
    "    \n",
    "    SAFE_DIV =0.001\n",
    "    STOP_WORDS = stopwords.words(\"english\")\n",
    "    \n",
    "    token_features =[0.0]*8\n",
    "    \n",
    "    #converting sentence into tokens\n",
    "    q1_tokens =q1.split()\n",
    "    q2_tokens =q2.split()\n",
    "    \n",
    "    if len(q1_tokens)==0 or len(q2_tokens)==0:\n",
    "        return token_features\n",
    "    \n",
    "    #on getting the non-stopwords in questins\n",
    "    q1_words = set([word for word in q1_tokens if word not in STOP_WORDS])\n",
    "    q2_words =set([word for word in q2_tokens if word not in STOP_WORDS])\n",
    "    \n",
    "    #on getting the stopwords in question\n",
    "    q1_stops = set([word for word in q1_tokens if word in STOP_WORDS])\n",
    "    q2_stops = set([word for word in q2_tokens if word in STOP_WORDS])\n",
    "    \n",
    "    #ON GETIING the common non-stopwords form ques pairs\n",
    "    common_word_count = len(q1_words.intersection(q2_words))\n",
    "    \n",
    "    #on getting the common stopwords from ques pairs\n",
    "    common_stop_count = len(q1_stops.intersection(q2_stops))\n",
    "    \n",
    "    #on getting the common tokens from ques pairs\n",
    "    common_token_count = len(set(q1_tokens).intersection(set(q2_tokens)))\n",
    "    \n",
    "    token_features[0]= common_word_count /(min(len(q1_words),len(q2_words))+ SAFE_DIV)\n",
    "    token_features[1] = common_word_count / (max(len(q1_words), len(q2_words)) + SAFE_DIV)\n",
    "    token_features[2] = common_stop_count / (min(len(q1_stops), len(q2_stops)) + SAFE_DIV)\n",
    "    token_features[3] = common_stop_count / (max(len(q1_stops), len(q2_stops)) + SAFE_DIV)\n",
    "    token_features[4] = common_token_count / (min(len(q1_tokens), len(q2_tokens)) + SAFE_DIV)\n",
    "    token_features[5] = common_token_count / (max(len(q1_tokens), len(q2_tokens)) + SAFE_DIV)\n",
    "    \n",
    "    #check for last word of both question is same or not\n",
    "    token_features[6]= int(q1_tokens[-1]==q2_tokens[-1])\n",
    "    #check for first word of both ques is same or not\n",
    "    token_features[7]= int(q1_tokens[0] == q2_tokens[0])\n",
    "    \n",
    "    return token_features"
   ]
  },
  {
   "cell_type": "code",
   "execution_count": 22,
   "id": "7408cc2c",
   "metadata": {
    "execution": {
     "iopub.execute_input": "2024-02-16T19:40:37.750168Z",
     "iopub.status.busy": "2024-02-16T19:40:37.749743Z",
     "iopub.status.idle": "2024-02-16T19:41:11.946846Z",
     "shell.execute_reply": "2024-02-16T19:41:11.946018Z"
    },
    "papermill": {
     "duration": 34.215152,
     "end_time": "2024-02-16T19:41:11.949027",
     "exception": false,
     "start_time": "2024-02-16T19:40:37.733875",
     "status": "completed"
    },
    "tags": []
   },
   "outputs": [],
   "source": [
    "token_features = df.apply(fetch_token_features, axis=1)\n",
    "\n",
    "df[\"cwc_min\"]       = list(map(lambda x: x[0], token_features))\n",
    "df[\"cwc_max\"]       = list(map(lambda x: x[1], token_features))\n",
    "df[\"csc_min\"]       = list(map(lambda x: x[2], token_features))\n",
    "df[\"csc_max\"]       = list(map(lambda x: x[3], token_features))\n",
    "df[\"ctc_min\"]       = list(map(lambda x: x[4], token_features))\n",
    "df[\"ctc_max\"]       = list(map(lambda x: x[5], token_features))\n",
    "df[\"last_word_eq\"]  = list(map(lambda x: x[6], token_features))\n",
    "df[\"first_word_eq\"] = list(map(lambda x: x[7], token_features))"
   ]
  },
  {
   "cell_type": "code",
   "execution_count": 23,
   "id": "4c242638",
   "metadata": {
    "execution": {
     "iopub.execute_input": "2024-02-16T19:41:11.981169Z",
     "iopub.status.busy": "2024-02-16T19:41:11.980406Z",
     "iopub.status.idle": "2024-02-16T19:41:12.007332Z",
     "shell.execute_reply": "2024-02-16T19:41:12.006458Z"
    },
    "papermill": {
     "duration": 0.044874,
     "end_time": "2024-02-16T19:41:12.009567",
     "exception": false,
     "start_time": "2024-02-16T19:41:11.964693",
     "status": "completed"
    },
    "tags": []
   },
   "outputs": [
    {
     "data": {
      "text/html": [
       "<div>\n",
       "<style scoped>\n",
       "    .dataframe tbody tr th:only-of-type {\n",
       "        vertical-align: middle;\n",
       "    }\n",
       "\n",
       "    .dataframe tbody tr th {\n",
       "        vertical-align: top;\n",
       "    }\n",
       "\n",
       "    .dataframe thead th {\n",
       "        text-align: right;\n",
       "    }\n",
       "</style>\n",
       "<table border=\"1\" class=\"dataframe\">\n",
       "  <thead>\n",
       "    <tr style=\"text-align: right;\">\n",
       "      <th></th>\n",
       "      <th>id</th>\n",
       "      <th>qid1</th>\n",
       "      <th>qid2</th>\n",
       "      <th>question1</th>\n",
       "      <th>question2</th>\n",
       "      <th>is_duplicate</th>\n",
       "      <th>q1_len</th>\n",
       "      <th>q2_len</th>\n",
       "      <th>q1_num_words</th>\n",
       "      <th>q2_num_words</th>\n",
       "      <th>...</th>\n",
       "      <th>word_total</th>\n",
       "      <th>word_share</th>\n",
       "      <th>cwc_min</th>\n",
       "      <th>cwc_max</th>\n",
       "      <th>csc_min</th>\n",
       "      <th>csc_max</th>\n",
       "      <th>ctc_min</th>\n",
       "      <th>ctc_max</th>\n",
       "      <th>last_word_eq</th>\n",
       "      <th>first_word_eq</th>\n",
       "    </tr>\n",
       "  </thead>\n",
       "  <tbody>\n",
       "    <tr>\n",
       "      <th>398782</th>\n",
       "      <td>398782</td>\n",
       "      <td>496695</td>\n",
       "      <td>532029</td>\n",
       "      <td>companies</td>\n",
       "      <td>companies</td>\n",
       "      <td>1</td>\n",
       "      <td>9</td>\n",
       "      <td>9</td>\n",
       "      <td>1</td>\n",
       "      <td>1</td>\n",
       "      <td>...</td>\n",
       "      <td>2</td>\n",
       "      <td>0.5</td>\n",
       "      <td>0.999001</td>\n",
       "      <td>0.999001</td>\n",
       "      <td>0.000000</td>\n",
       "      <td>0.000000</td>\n",
       "      <td>0.999001</td>\n",
       "      <td>0.999001</td>\n",
       "      <td>1.0</td>\n",
       "      <td>1.0</td>\n",
       "    </tr>\n",
       "    <tr>\n",
       "      <th>115086</th>\n",
       "      <td>115086</td>\n",
       "      <td>187729</td>\n",
       "      <td>187730</td>\n",
       "      <td>do</td>\n",
       "      <td>do</td>\n",
       "      <td>0</td>\n",
       "      <td>2</td>\n",
       "      <td>2</td>\n",
       "      <td>1</td>\n",
       "      <td>1</td>\n",
       "      <td>...</td>\n",
       "      <td>2</td>\n",
       "      <td>0.5</td>\n",
       "      <td>0.000000</td>\n",
       "      <td>0.000000</td>\n",
       "      <td>0.999001</td>\n",
       "      <td>0.999001</td>\n",
       "      <td>0.999001</td>\n",
       "      <td>0.999001</td>\n",
       "      <td>1.0</td>\n",
       "      <td>1.0</td>\n",
       "    </tr>\n",
       "    <tr>\n",
       "      <th>327711</th>\n",
       "      <td>327711</td>\n",
       "      <td>454161</td>\n",
       "      <td>454162</td>\n",
       "      <td>that</td>\n",
       "      <td>shit</td>\n",
       "      <td>0</td>\n",
       "      <td>4</td>\n",
       "      <td>4</td>\n",
       "      <td>1</td>\n",
       "      <td>1</td>\n",
       "      <td>...</td>\n",
       "      <td>2</td>\n",
       "      <td>0.0</td>\n",
       "      <td>0.000000</td>\n",
       "      <td>0.000000</td>\n",
       "      <td>0.000000</td>\n",
       "      <td>0.000000</td>\n",
       "      <td>0.000000</td>\n",
       "      <td>0.000000</td>\n",
       "      <td>0.0</td>\n",
       "      <td>0.0</td>\n",
       "    </tr>\n",
       "    <tr>\n",
       "      <th>367788</th>\n",
       "      <td>367788</td>\n",
       "      <td>498109</td>\n",
       "      <td>491396</td>\n",
       "      <td>states</td>\n",
       "      <td>psychopath</td>\n",
       "      <td>0</td>\n",
       "      <td>6</td>\n",
       "      <td>10</td>\n",
       "      <td>1</td>\n",
       "      <td>1</td>\n",
       "      <td>...</td>\n",
       "      <td>2</td>\n",
       "      <td>0.0</td>\n",
       "      <td>0.000000</td>\n",
       "      <td>0.000000</td>\n",
       "      <td>0.000000</td>\n",
       "      <td>0.000000</td>\n",
       "      <td>0.000000</td>\n",
       "      <td>0.000000</td>\n",
       "      <td>0.0</td>\n",
       "      <td>0.0</td>\n",
       "    </tr>\n",
       "    <tr>\n",
       "      <th>151235</th>\n",
       "      <td>151235</td>\n",
       "      <td>237843</td>\n",
       "      <td>50930</td>\n",
       "      <td>tragedy</td>\n",
       "      <td>tragedy</td>\n",
       "      <td>0</td>\n",
       "      <td>7</td>\n",
       "      <td>7</td>\n",
       "      <td>1</td>\n",
       "      <td>1</td>\n",
       "      <td>...</td>\n",
       "      <td>2</td>\n",
       "      <td>0.5</td>\n",
       "      <td>0.999001</td>\n",
       "      <td>0.999001</td>\n",
       "      <td>0.000000</td>\n",
       "      <td>0.000000</td>\n",
       "      <td>0.999001</td>\n",
       "      <td>0.999001</td>\n",
       "      <td>1.0</td>\n",
       "      <td>1.0</td>\n",
       "    </tr>\n",
       "  </tbody>\n",
       "</table>\n",
       "<p>5 rows × 21 columns</p>\n",
       "</div>"
      ],
      "text/plain": [
       "            id    qid1    qid2  question1   question2  is_duplicate  q1_len  \\\n",
       "398782  398782  496695  532029  companies   companies             1       9   \n",
       "115086  115086  187729  187730         do          do             0       2   \n",
       "327711  327711  454161  454162       that        shit             0       4   \n",
       "367788  367788  498109  491396     states  psychopath             0       6   \n",
       "151235  151235  237843   50930    tragedy     tragedy             0       7   \n",
       "\n",
       "        q2_len  q1_num_words  q2_num_words  ...  word_total  word_share  \\\n",
       "398782       9             1             1  ...           2         0.5   \n",
       "115086       2             1             1  ...           2         0.5   \n",
       "327711       4             1             1  ...           2         0.0   \n",
       "367788      10             1             1  ...           2         0.0   \n",
       "151235       7             1             1  ...           2         0.5   \n",
       "\n",
       "         cwc_min   cwc_max   csc_min   csc_max   ctc_min   ctc_max  \\\n",
       "398782  0.999001  0.999001  0.000000  0.000000  0.999001  0.999001   \n",
       "115086  0.000000  0.000000  0.999001  0.999001  0.999001  0.999001   \n",
       "327711  0.000000  0.000000  0.000000  0.000000  0.000000  0.000000   \n",
       "367788  0.000000  0.000000  0.000000  0.000000  0.000000  0.000000   \n",
       "151235  0.999001  0.999001  0.000000  0.000000  0.999001  0.999001   \n",
       "\n",
       "        last_word_eq  first_word_eq  \n",
       "398782           1.0            1.0  \n",
       "115086           1.0            1.0  \n",
       "327711           0.0            0.0  \n",
       "367788           0.0            0.0  \n",
       "151235           1.0            1.0  \n",
       "\n",
       "[5 rows x 21 columns]"
      ]
     },
     "execution_count": 23,
     "metadata": {},
     "output_type": "execute_result"
    }
   ],
   "source": [
    "df.head()"
   ]
  },
  {
   "cell_type": "code",
   "execution_count": 24,
   "id": "46185718",
   "metadata": {
    "execution": {
     "iopub.execute_input": "2024-02-16T19:41:12.042383Z",
     "iopub.status.busy": "2024-02-16T19:41:12.042087Z",
     "iopub.status.idle": "2024-02-16T19:41:12.048236Z",
     "shell.execute_reply": "2024-02-16T19:41:12.047387Z"
    },
    "papermill": {
     "duration": 0.024017,
     "end_time": "2024-02-16T19:41:12.050046",
     "exception": false,
     "start_time": "2024-02-16T19:41:12.026029",
     "status": "completed"
    },
    "tags": []
   },
   "outputs": [],
   "source": [
    "from difflib import SequenceMatcher\n",
    "def fetch_length_features(row):\n",
    "    \n",
    "    q1 = row['question1']\n",
    "    q2 = row['question2']\n",
    "    \n",
    "    length_features = [0.0]*3\n",
    "    \n",
    "    # Converting the Sentence into Tokens: \n",
    "    q1_tokens = q1.split()\n",
    "    q2_tokens = q2.split()\n",
    "    \n",
    "    if len(q1_tokens) == 0 or len(q2_tokens) == 0:\n",
    "        return length_features\n",
    "    \n",
    "    # Absolute length features\n",
    "    length_features[0] = abs(len(q1_tokens) - len(q2_tokens))\n",
    "    \n",
    "    #Average Token Length of both Questions\n",
    "    length_features[1] = (len(q1_tokens) + len(q2_tokens))/2\n",
    "    \n",
    "    return length_features\n",
    "    "
   ]
  },
  {
   "cell_type": "code",
   "execution_count": 25,
   "id": "4d6846d5",
   "metadata": {
    "execution": {
     "iopub.execute_input": "2024-02-16T19:41:12.081779Z",
     "iopub.status.busy": "2024-02-16T19:41:12.081477Z",
     "iopub.status.idle": "2024-02-16T19:41:15.914866Z",
     "shell.execute_reply": "2024-02-16T19:41:15.913840Z"
    },
    "papermill": {
     "duration": 3.851769,
     "end_time": "2024-02-16T19:41:15.917177",
     "exception": false,
     "start_time": "2024-02-16T19:41:12.065408",
     "status": "completed"
    },
    "tags": []
   },
   "outputs": [],
   "source": [
    "length_features = df.apply(fetch_length_features, axis=1)\n",
    "\n",
    "df['abs_len_diff'] = list(map(lambda x: x[0], length_features))\n",
    "df['mean_len'] = list(map(lambda x: x[1], length_features))"
   ]
  },
  {
   "cell_type": "code",
   "execution_count": 26,
   "id": "317e6dc1",
   "metadata": {
    "execution": {
     "iopub.execute_input": "2024-02-16T19:41:15.950133Z",
     "iopub.status.busy": "2024-02-16T19:41:15.949809Z",
     "iopub.status.idle": "2024-02-16T19:41:15.974318Z",
     "shell.execute_reply": "2024-02-16T19:41:15.973361Z"
    },
    "papermill": {
     "duration": 0.042828,
     "end_time": "2024-02-16T19:41:15.976364",
     "exception": false,
     "start_time": "2024-02-16T19:41:15.933536",
     "status": "completed"
    },
    "tags": []
   },
   "outputs": [
    {
     "data": {
      "text/html": [
       "<div>\n",
       "<style scoped>\n",
       "    .dataframe tbody tr th:only-of-type {\n",
       "        vertical-align: middle;\n",
       "    }\n",
       "\n",
       "    .dataframe tbody tr th {\n",
       "        vertical-align: top;\n",
       "    }\n",
       "\n",
       "    .dataframe thead th {\n",
       "        text-align: right;\n",
       "    }\n",
       "</style>\n",
       "<table border=\"1\" class=\"dataframe\">\n",
       "  <thead>\n",
       "    <tr style=\"text-align: right;\">\n",
       "      <th></th>\n",
       "      <th>id</th>\n",
       "      <th>qid1</th>\n",
       "      <th>qid2</th>\n",
       "      <th>question1</th>\n",
       "      <th>question2</th>\n",
       "      <th>is_duplicate</th>\n",
       "      <th>q1_len</th>\n",
       "      <th>q2_len</th>\n",
       "      <th>q1_num_words</th>\n",
       "      <th>q2_num_words</th>\n",
       "      <th>...</th>\n",
       "      <th>cwc_min</th>\n",
       "      <th>cwc_max</th>\n",
       "      <th>csc_min</th>\n",
       "      <th>csc_max</th>\n",
       "      <th>ctc_min</th>\n",
       "      <th>ctc_max</th>\n",
       "      <th>last_word_eq</th>\n",
       "      <th>first_word_eq</th>\n",
       "      <th>abs_len_diff</th>\n",
       "      <th>mean_len</th>\n",
       "    </tr>\n",
       "  </thead>\n",
       "  <tbody>\n",
       "    <tr>\n",
       "      <th>398782</th>\n",
       "      <td>398782</td>\n",
       "      <td>496695</td>\n",
       "      <td>532029</td>\n",
       "      <td>companies</td>\n",
       "      <td>companies</td>\n",
       "      <td>1</td>\n",
       "      <td>9</td>\n",
       "      <td>9</td>\n",
       "      <td>1</td>\n",
       "      <td>1</td>\n",
       "      <td>...</td>\n",
       "      <td>0.999001</td>\n",
       "      <td>0.999001</td>\n",
       "      <td>0.000000</td>\n",
       "      <td>0.000000</td>\n",
       "      <td>0.999001</td>\n",
       "      <td>0.999001</td>\n",
       "      <td>1.0</td>\n",
       "      <td>1.0</td>\n",
       "      <td>0.0</td>\n",
       "      <td>1.0</td>\n",
       "    </tr>\n",
       "    <tr>\n",
       "      <th>115086</th>\n",
       "      <td>115086</td>\n",
       "      <td>187729</td>\n",
       "      <td>187730</td>\n",
       "      <td>do</td>\n",
       "      <td>do</td>\n",
       "      <td>0</td>\n",
       "      <td>2</td>\n",
       "      <td>2</td>\n",
       "      <td>1</td>\n",
       "      <td>1</td>\n",
       "      <td>...</td>\n",
       "      <td>0.000000</td>\n",
       "      <td>0.000000</td>\n",
       "      <td>0.999001</td>\n",
       "      <td>0.999001</td>\n",
       "      <td>0.999001</td>\n",
       "      <td>0.999001</td>\n",
       "      <td>1.0</td>\n",
       "      <td>1.0</td>\n",
       "      <td>0.0</td>\n",
       "      <td>1.0</td>\n",
       "    </tr>\n",
       "    <tr>\n",
       "      <th>327711</th>\n",
       "      <td>327711</td>\n",
       "      <td>454161</td>\n",
       "      <td>454162</td>\n",
       "      <td>that</td>\n",
       "      <td>shit</td>\n",
       "      <td>0</td>\n",
       "      <td>4</td>\n",
       "      <td>4</td>\n",
       "      <td>1</td>\n",
       "      <td>1</td>\n",
       "      <td>...</td>\n",
       "      <td>0.000000</td>\n",
       "      <td>0.000000</td>\n",
       "      <td>0.000000</td>\n",
       "      <td>0.000000</td>\n",
       "      <td>0.000000</td>\n",
       "      <td>0.000000</td>\n",
       "      <td>0.0</td>\n",
       "      <td>0.0</td>\n",
       "      <td>0.0</td>\n",
       "      <td>1.0</td>\n",
       "    </tr>\n",
       "    <tr>\n",
       "      <th>367788</th>\n",
       "      <td>367788</td>\n",
       "      <td>498109</td>\n",
       "      <td>491396</td>\n",
       "      <td>states</td>\n",
       "      <td>psychopath</td>\n",
       "      <td>0</td>\n",
       "      <td>6</td>\n",
       "      <td>10</td>\n",
       "      <td>1</td>\n",
       "      <td>1</td>\n",
       "      <td>...</td>\n",
       "      <td>0.000000</td>\n",
       "      <td>0.000000</td>\n",
       "      <td>0.000000</td>\n",
       "      <td>0.000000</td>\n",
       "      <td>0.000000</td>\n",
       "      <td>0.000000</td>\n",
       "      <td>0.0</td>\n",
       "      <td>0.0</td>\n",
       "      <td>0.0</td>\n",
       "      <td>1.0</td>\n",
       "    </tr>\n",
       "    <tr>\n",
       "      <th>151235</th>\n",
       "      <td>151235</td>\n",
       "      <td>237843</td>\n",
       "      <td>50930</td>\n",
       "      <td>tragedy</td>\n",
       "      <td>tragedy</td>\n",
       "      <td>0</td>\n",
       "      <td>7</td>\n",
       "      <td>7</td>\n",
       "      <td>1</td>\n",
       "      <td>1</td>\n",
       "      <td>...</td>\n",
       "      <td>0.999001</td>\n",
       "      <td>0.999001</td>\n",
       "      <td>0.000000</td>\n",
       "      <td>0.000000</td>\n",
       "      <td>0.999001</td>\n",
       "      <td>0.999001</td>\n",
       "      <td>1.0</td>\n",
       "      <td>1.0</td>\n",
       "      <td>0.0</td>\n",
       "      <td>1.0</td>\n",
       "    </tr>\n",
       "  </tbody>\n",
       "</table>\n",
       "<p>5 rows × 23 columns</p>\n",
       "</div>"
      ],
      "text/plain": [
       "            id    qid1    qid2  question1   question2  is_duplicate  q1_len  \\\n",
       "398782  398782  496695  532029  companies   companies             1       9   \n",
       "115086  115086  187729  187730         do          do             0       2   \n",
       "327711  327711  454161  454162       that        shit             0       4   \n",
       "367788  367788  498109  491396     states  psychopath             0       6   \n",
       "151235  151235  237843   50930    tragedy     tragedy             0       7   \n",
       "\n",
       "        q2_len  q1_num_words  q2_num_words  ...   cwc_min   cwc_max   csc_min  \\\n",
       "398782       9             1             1  ...  0.999001  0.999001  0.000000   \n",
       "115086       2             1             1  ...  0.000000  0.000000  0.999001   \n",
       "327711       4             1             1  ...  0.000000  0.000000  0.000000   \n",
       "367788      10             1             1  ...  0.000000  0.000000  0.000000   \n",
       "151235       7             1             1  ...  0.999001  0.999001  0.000000   \n",
       "\n",
       "         csc_max   ctc_min   ctc_max  last_word_eq  first_word_eq  \\\n",
       "398782  0.000000  0.999001  0.999001           1.0            1.0   \n",
       "115086  0.999001  0.999001  0.999001           1.0            1.0   \n",
       "327711  0.000000  0.000000  0.000000           0.0            0.0   \n",
       "367788  0.000000  0.000000  0.000000           0.0            0.0   \n",
       "151235  0.000000  0.999001  0.999001           1.0            1.0   \n",
       "\n",
       "        abs_len_diff  mean_len  \n",
       "398782           0.0       1.0  \n",
       "115086           0.0       1.0  \n",
       "327711           0.0       1.0  \n",
       "367788           0.0       1.0  \n",
       "151235           0.0       1.0  \n",
       "\n",
       "[5 rows x 23 columns]"
      ]
     },
     "execution_count": 26,
     "metadata": {},
     "output_type": "execute_result"
    }
   ],
   "source": [
    "df.head()"
   ]
  },
  {
   "cell_type": "markdown",
   "id": "32a81155",
   "metadata": {
    "papermill": {
     "duration": 0.015303,
     "end_time": "2024-02-16T19:41:16.007398",
     "exception": false,
     "start_time": "2024-02-16T19:41:15.992095",
     "status": "completed"
    },
    "tags": []
   },
   "source": [
    "# **Analysis of features**"
   ]
  },
  {
   "cell_type": "code",
   "execution_count": 27,
   "id": "6fcbe1af",
   "metadata": {
    "execution": {
     "iopub.execute_input": "2024-02-16T19:41:16.039524Z",
     "iopub.status.busy": "2024-02-16T19:41:16.039238Z",
     "iopub.status.idle": "2024-02-16T19:42:47.538997Z",
     "shell.execute_reply": "2024-02-16T19:42:47.538049Z"
    },
    "papermill": {
     "duration": 91.535691,
     "end_time": "2024-02-16T19:42:47.558686",
     "exception": false,
     "start_time": "2024-02-16T19:41:16.022995",
     "status": "completed"
    },
    "tags": []
   },
   "outputs": [
    {
     "data": {
      "text/plain": [
       "<seaborn.axisgrid.PairGrid at 0x7b81a5ccdc30>"
      ]
     },
     "execution_count": 27,
     "metadata": {},
     "output_type": "execute_result"
    },
    {
     "data": {
      "image/png": "[encoded data removed]",
      "text/plain": [
       "<Figure size 843.611x750 with 12 Axes>"
      ]
     },
     "metadata": {},
     "output_type": "display_data"
    }
   ],
   "source": [
    "sns.pairplot(df[['ctc_min', 'cwc_min', 'csc_min', 'is_duplicate']],hue='is_duplicate')"
   ]
  },
  {
   "cell_type": "code",
   "execution_count": 28,
   "id": "ec93eede",
   "metadata": {
    "execution": {
     "iopub.execute_input": "2024-02-16T19:42:47.593373Z",
     "iopub.status.busy": "2024-02-16T19:42:47.592753Z",
     "iopub.status.idle": "2024-02-16T19:44:19.115612Z",
     "shell.execute_reply": "2024-02-16T19:44:19.114634Z"
    },
    "papermill": {
     "duration": 91.561367,
     "end_time": "2024-02-16T19:44:19.136686",
     "exception": false,
     "start_time": "2024-02-16T19:42:47.575319",
     "status": "completed"
    },
    "tags": []
   },
   "outputs": [
    {
     "data": {
      "text/plain": [
       "<seaborn.axisgrid.PairGrid at 0x7b81a0057dc0>"
      ]
     },
     "execution_count": 28,
     "metadata": {},
     "output_type": "execute_result"
    },
    {
     "data": {
      "image/png": "[encoded data removed]",
      "text/plain": [
       "<Figure size 843.611x750 with 12 Axes>"
      ]
     },
     "metadata": {},
     "output_type": "display_data"
    }
   ],
   "source": [
    "sns.pairplot(df[['ctc_max', 'cwc_max', 'csc_max', 'is_duplicate']],hue='is_duplicate')"
   ]
  },
  {
   "cell_type": "code",
   "execution_count": 29,
   "id": "2e3e031d",
   "metadata": {
    "execution": {
     "iopub.execute_input": "2024-02-16T19:44:19.175294Z",
     "iopub.status.busy": "2024-02-16T19:44:19.174469Z",
     "iopub.status.idle": "2024-02-16T19:44:50.734923Z",
     "shell.execute_reply": "2024-02-16T19:44:50.734001Z"
    },
    "papermill": {
     "duration": 31.602797,
     "end_time": "2024-02-16T19:44:50.758001",
     "exception": false,
     "start_time": "2024-02-16T19:44:19.155204",
     "status": "completed"
    },
    "tags": []
   },
   "outputs": [
    {
     "data": {
      "text/plain": [
       "<seaborn.axisgrid.PairGrid at 0x7b81a0057e50>"
      ]
     },
     "execution_count": 29,
     "metadata": {},
     "output_type": "execute_result"
    },
    {
     "data": {
      "image/png": "[encoded data removed]",
      "text/plain": [
       "<Figure size 593.611x500 with 6 Axes>"
      ]
     },
     "metadata": {},
     "output_type": "display_data"
    }
   ],
   "source": [
    "sns.pairplot(df[['last_word_eq', 'first_word_eq', 'is_duplicate']],hue='is_duplicate')"
   ]
  },
  {
   "cell_type": "code",
   "execution_count": 30,
   "id": "55c346ec",
   "metadata": {
    "execution": {
     "iopub.execute_input": "2024-02-16T19:44:50.798215Z",
     "iopub.status.busy": "2024-02-16T19:44:50.797910Z",
     "iopub.status.idle": "2024-02-16T19:45:22.148401Z",
     "shell.execute_reply": "2024-02-16T19:45:22.147437Z"
    },
    "papermill": {
     "duration": 31.392605,
     "end_time": "2024-02-16T19:45:22.170321",
     "exception": false,
     "start_time": "2024-02-16T19:44:50.777716",
     "status": "completed"
    },
    "tags": []
   },
   "outputs": [
    {
     "data": {
      "text/plain": [
       "<seaborn.axisgrid.PairGrid at 0x7b81a5e08fd0>"
      ]
     },
     "execution_count": 30,
     "metadata": {},
     "output_type": "execute_result"
    },
    {
     "data": {
      "image/png": "[encoded data removed]",
      "text/plain": [
       "<Figure size 593.611x500 with 6 Axes>"
      ]
     },
     "metadata": {},
     "output_type": "display_data"
    }
   ],
   "source": [
    "sns.pairplot(df[['mean_len', 'abs_len_diff', 'is_duplicate']],hue='is_duplicate')"
   ]
  },
  {
   "cell_type": "code",
   "execution_count": 31,
   "id": "86b46e41",
   "metadata": {
    "execution": {
     "iopub.execute_input": "2024-02-16T19:45:22.213378Z",
     "iopub.status.busy": "2024-02-16T19:45:22.213014Z",
     "iopub.status.idle": "2024-02-16T19:45:22.251647Z",
     "shell.execute_reply": "2024-02-16T19:45:22.250787Z"
    },
    "papermill": {
     "duration": 0.063164,
     "end_time": "2024-02-16T19:45:22.254188",
     "exception": false,
     "start_time": "2024-02-16T19:45:22.191024",
     "status": "completed"
    },
    "tags": []
   },
   "outputs": [],
   "source": [
    "# Using TSNE for Dimentionality reduction for 15 Features(Generated after cleaning the data) to 3 dimention\n",
    "\n",
    "from sklearn.preprocessing import MinMaxScaler\n",
    "\n",
    "X = MinMaxScaler().fit_transform(df[['cwc_min', 'cwc_max', 'csc_min', 'csc_max' , 'ctc_min' , 'ctc_max' , 'last_word_eq', 'first_word_eq' , 'abs_len_diff' , 'mean_len']])\n",
    "y = df['is_duplicate'].values"
   ]
  },
  {
   "cell_type": "code",
   "execution_count": 32,
   "id": "15cf648a",
   "metadata": {
    "execution": {
     "iopub.execute_input": "2024-02-16T19:45:22.296576Z",
     "iopub.status.busy": "2024-02-16T19:45:22.296218Z",
     "iopub.status.idle": "2024-02-16T20:29:50.578167Z",
     "shell.execute_reply": "2024-02-16T20:29:50.577029Z"
    },
    "papermill": {
     "duration": 2668.330574,
     "end_time": "2024-02-16T20:29:50.605632",
     "exception": false,
     "start_time": "2024-02-16T19:45:22.275058",
     "status": "completed"
    },
    "tags": []
   },
   "outputs": [
    {
     "name": "stdout",
     "output_type": "stream",
     "text": [
      "[t-SNE] Computing 91 nearest neighbors...\n",
      "[t-SNE] Indexed 199999 samples in 0.274s...\n",
      "[t-SNE] Computed neighbors for 199999 samples in 398.621s...\n",
      "[t-SNE] Computed conditional probabilities for sample 1000 / 199999\n",
      "[t-SNE] Computed conditional probabilities for sample 2000 / 199999\n",
      "[t-SNE] Computed conditional probabilities for sample 3000 / 199999\n",
      "[t-SNE] Computed conditional probabilities for sample 4000 / 199999\n",
      "[t-SNE] Computed conditional probabilities for sample 5000 / 199999\n",
      "[t-SNE] Computed conditional probabilities for sample 6000 / 199999\n",
      "[t-SNE] Computed conditional probabilities for sample 7000 / 199999\n",
      "[t-SNE] Computed conditional probabilities for sample 8000 / 199999\n",
      "[t-SNE] Computed conditional probabilities for sample 9000 / 199999\n",
      "[t-SNE] Computed conditional probabilities for sample 10000 / 199999\n",
      "[t-SNE] Computed conditional probabilities for sample 11000 / 199999\n",
      "[t-SNE] Computed conditional probabilities for sample 12000 / 199999\n",
      "[t-SNE] Computed conditional probabilities for sample 13000 / 199999\n",
      "[t-SNE] Computed conditional probabilities for sample 14000 / 199999\n",
      "[t-SNE] Computed conditional probabilities for sample 15000 / 199999\n",
      "[t-SNE] Computed conditional probabilities for sample 16000 / 199999\n",
      "[t-SNE] Computed conditional probabilities for sample 17000 / 199999\n",
      "[t-SNE] Computed conditional probabilities for sample 18000 / 199999\n",
      "[t-SNE] Computed conditional probabilities for sample 19000 / 199999\n",
      "[t-SNE] Computed conditional probabilities for sample 20000 / 199999\n",
      "[t-SNE] Computed conditional probabilities for sample 21000 / 199999\n",
      "[t-SNE] Computed conditional probabilities for sample 22000 / 199999\n",
      "[t-SNE] Computed conditional probabilities for sample 23000 / 199999\n",
      "[t-SNE] Computed conditional probabilities for sample 24000 / 199999\n",
      "[t-SNE] Computed conditional probabilities for sample 25000 / 199999\n",
      "[t-SNE] Computed conditional probabilities for sample 26000 / 199999\n",
      "[t-SNE] Computed conditional probabilities for sample 27000 / 199999\n",
      "[t-SNE] Computed conditional probabilities for sample 28000 / 199999\n",
      "[t-SNE] Computed conditional probabilities for sample 29000 / 199999\n",
      "[t-SNE] Computed conditional probabilities for sample 30000 / 199999\n",
      "[t-SNE] Computed conditional probabilities for sample 31000 / 199999\n",
      "[t-SNE] Computed conditional probabilities for sample 32000 / 199999\n",
      "[t-SNE] Computed conditional probabilities for sample 33000 / 199999\n",
      "[t-SNE] Computed conditional probabilities for sample 34000 / 199999\n",
      "[t-SNE] Computed conditional probabilities for sample 35000 / 199999\n",
      "[t-SNE] Computed conditional probabilities for sample 36000 / 199999\n",
      "[t-SNE] Computed conditional probabilities for sample 37000 / 199999\n",
      "[t-SNE] Computed conditional probabilities for sample 38000 / 199999\n",
      "[t-SNE] Computed conditional probabilities for sample 39000 / 199999\n",
      "[t-SNE] Computed conditional probabilities for sample 40000 / 199999\n",
      "[t-SNE] Computed conditional probabilities for sample 41000 / 199999\n",
      "[t-SNE] Computed conditional probabilities for sample 42000 / 199999\n",
      "[t-SNE] Computed conditional probabilities for sample 43000 / 199999\n",
      "[t-SNE] Computed conditional probabilities for sample 44000 / 199999\n",
      "[t-SNE] Computed conditional probabilities for sample 45000 / 199999\n",
      "[t-SNE] Computed conditional probabilities for sample 46000 / 199999\n",
      "[t-SNE] Computed conditional probabilities for sample 47000 / 199999\n",
      "[t-SNE] Computed conditional probabilities for sample 48000 / 199999\n",
      "[t-SNE] Computed conditional probabilities for sample 49000 / 199999\n",
      "[t-SNE] Computed conditional probabilities for sample 50000 / 199999\n",
      "[t-SNE] Computed conditional probabilities for sample 51000 / 199999\n",
      "[t-SNE] Computed conditional probabilities for sample 52000 / 199999\n",
      "[t-SNE] Computed conditional probabilities for sample 53000 / 199999\n",
      "[t-SNE] Computed conditional probabilities for sample 54000 / 199999\n",
      "[t-SNE] Computed conditional probabilities for sample 55000 / 199999\n",
      "[t-SNE] Computed conditional probabilities for sample 56000 / 199999\n",
      "[t-SNE] Computed conditional probabilities for sample 57000 / 199999\n",
      "[t-SNE] Computed conditional probabilities for sample 58000 / 199999\n",
      "[t-SNE] Computed conditional probabilities for sample 59000 / 199999\n",
      "[t-SNE] Computed conditional probabilities for sample 60000 / 199999\n",
      "[t-SNE] Computed conditional probabilities for sample 61000 / 199999\n",
      "[t-SNE] Computed conditional probabilities for sample 62000 / 199999\n",
      "[t-SNE] Computed conditional probabilities for sample 63000 / 199999\n",
      "[t-SNE] Computed conditional probabilities for sample 64000 / 199999\n",
      "[t-SNE] Computed conditional probabilities for sample 65000 / 199999\n",
      "[t-SNE] Computed conditional probabilities for sample 66000 / 199999\n",
      "[t-SNE] Computed conditional probabilities for sample 67000 / 199999\n",
      "[t-SNE] Computed conditional probabilities for sample 68000 / 199999\n",
      "[t-SNE] Computed conditional probabilities for sample 69000 / 199999\n",
      "[t-SNE] Computed conditional probabilities for sample 70000 / 199999\n",
      "[t-SNE] Computed conditional probabilities for sample 71000 / 199999\n",
      "[t-SNE] Computed conditional probabilities for sample 72000 / 199999\n",
      "[t-SNE] Computed conditional probabilities for sample 73000 / 199999\n",
      "[t-SNE] Computed conditional probabilities for sample 74000 / 199999\n",
      "[t-SNE] Computed conditional probabilities for sample 75000 / 199999\n",
      "[t-SNE] Computed conditional probabilities for sample 76000 / 199999\n",
      "[t-SNE] Computed conditional probabilities for sample 77000 / 199999\n",
      "[t-SNE] Computed conditional probabilities for sample 78000 / 199999\n",
      "[t-SNE] Computed conditional probabilities for sample 79000 / 199999\n",
      "[t-SNE] Computed conditional probabilities for sample 80000 / 199999\n",
      "[t-SNE] Computed conditional probabilities for sample 81000 / 199999\n",
      "[t-SNE] Computed conditional probabilities for sample 82000 / 199999\n",
      "[t-SNE] Computed conditional probabilities for sample 83000 / 199999\n",
      "[t-SNE] Computed conditional probabilities for sample 84000 / 199999\n",
      "[t-SNE] Computed conditional probabilities for sample 85000 / 199999\n",
      "[t-SNE] Computed conditional probabilities for sample 86000 / 199999\n",
      "[t-SNE] Computed conditional probabilities for sample 87000 / 199999\n",
      "[t-SNE] Computed conditional probabilities for sample 88000 / 199999\n",
      "[t-SNE] Computed conditional probabilities for sample 89000 / 199999\n",
      "[t-SNE] Computed conditional probabilities for sample 90000 / 199999\n",
      "[t-SNE] Computed conditional probabilities for sample 91000 / 199999\n",
      "[t-SNE] Computed conditional probabilities for sample 92000 / 199999\n",
      "[t-SNE] Computed conditional probabilities for sample 93000 / 199999\n",
      "[t-SNE] Computed conditional probabilities for sample 94000 / 199999\n",
      "[t-SNE] Computed conditional probabilities for sample 95000 / 199999\n",
      "[t-SNE] Computed conditional probabilities for sample 96000 / 199999\n",
      "[t-SNE] Computed conditional probabilities for sample 97000 / 199999\n",
      "[t-SNE] Computed conditional probabilities for sample 98000 / 199999\n",
      "[t-SNE] Computed conditional probabilities for sample 99000 / 199999\n",
      "[t-SNE] Computed conditional probabilities for sample 100000 / 199999\n",
      "[t-SNE] Computed conditional probabilities for sample 101000 / 199999\n",
      "[t-SNE] Computed conditional probabilities for sample 102000 / 199999\n",
      "[t-SNE] Computed conditional probabilities for sample 103000 / 199999\n",
      "[t-SNE] Computed conditional probabilities for sample 104000 / 199999\n",
      "[t-SNE] Computed conditional probabilities for sample 105000 / 199999\n",
      "[t-SNE] Computed conditional probabilities for sample 106000 / 199999\n",
      "[t-SNE] Computed conditional probabilities for sample 107000 / 199999\n",
      "[t-SNE] Computed conditional probabilities for sample 108000 / 199999\n",
      "[t-SNE] Computed conditional probabilities for sample 109000 / 199999\n",
      "[t-SNE] Computed conditional probabilities for sample 110000 / 199999\n",
      "[t-SNE] Computed conditional probabilities for sample 111000 / 199999\n",
      "[t-SNE] Computed conditional probabilities for sample 112000 / 199999\n",
      "[t-SNE] Computed conditional probabilities for sample 113000 / 199999\n",
      "[t-SNE] Computed conditional probabilities for sample 114000 / 199999\n",
      "[t-SNE] Computed conditional probabilities for sample 115000 / 199999\n",
      "[t-SNE] Computed conditional probabilities for sample 116000 / 199999\n",
      "[t-SNE] Computed conditional probabilities for sample 117000 / 199999\n",
      "[t-SNE] Computed conditional probabilities for sample 118000 / 199999\n",
      "[t-SNE] Computed conditional probabilities for sample 119000 / 199999\n",
      "[t-SNE] Computed conditional probabilities for sample 120000 / 199999\n",
      "[t-SNE] Computed conditional probabilities for sample 121000 / 199999\n",
      "[t-SNE] Computed conditional probabilities for sample 122000 / 199999\n",
      "[t-SNE] Computed conditional probabilities for sample 123000 / 199999\n",
      "[t-SNE] Computed conditional probabilities for sample 124000 / 199999\n",
      "[t-SNE] Computed conditional probabilities for sample 125000 / 199999\n",
      "[t-SNE] Computed conditional probabilities for sample 126000 / 199999\n",
      "[t-SNE] Computed conditional probabilities for sample 127000 / 199999\n",
      "[t-SNE] Computed conditional probabilities for sample 128000 / 199999\n",
      "[t-SNE] Computed conditional probabilities for sample 129000 / 199999\n",
      "[t-SNE] Computed conditional probabilities for sample 130000 / 199999\n",
      "[t-SNE] Computed conditional probabilities for sample 131000 / 199999\n",
      "[t-SNE] Computed conditional probabilities for sample 132000 / 199999\n",
      "[t-SNE] Computed conditional probabilities for sample 133000 / 199999\n",
      "[t-SNE] Computed conditional probabilities for sample 134000 / 199999\n",
      "[t-SNE] Computed conditional probabilities for sample 135000 / 199999\n",
      "[t-SNE] Computed conditional probabilities for sample 136000 / 199999\n",
      "[t-SNE] Computed conditional probabilities for sample 137000 / 199999\n",
      "[t-SNE] Computed conditional probabilities for sample 138000 / 199999\n",
      "[t-SNE] Computed conditional probabilities for sample 139000 / 199999\n",
      "[t-SNE] Computed conditional probabilities for sample 140000 / 199999\n",
      "[t-SNE] Computed conditional probabilities for sample 141000 / 199999\n",
      "[t-SNE] Computed conditional probabilities for sample 142000 / 199999\n",
      "[t-SNE] Computed conditional probabilities for sample 143000 / 199999\n",
      "[t-SNE] Computed conditional probabilities for sample 144000 / 199999\n",
      "[t-SNE] Computed conditional probabilities for sample 145000 / 199999\n",
      "[t-SNE] Computed conditional probabilities for sample 146000 / 199999\n",
      "[t-SNE] Computed conditional probabilities for sample 147000 / 199999\n",
      "[t-SNE] Computed conditional probabilities for sample 148000 / 199999\n",
      "[t-SNE] Computed conditional probabilities for sample 149000 / 199999\n",
      "[t-SNE] Computed conditional probabilities for sample 150000 / 199999\n",
      "[t-SNE] Computed conditional probabilities for sample 151000 / 199999\n",
      "[t-SNE] Computed conditional probabilities for sample 152000 / 199999\n",
      "[t-SNE] Computed conditional probabilities for sample 153000 / 199999\n",
      "[t-SNE] Computed conditional probabilities for sample 154000 / 199999\n",
      "[t-SNE] Computed conditional probabilities for sample 155000 / 199999\n",
      "[t-SNE] Computed conditional probabilities for sample 156000 / 199999\n",
      "[t-SNE] Computed conditional probabilities for sample 157000 / 199999\n",
      "[t-SNE] Computed conditional probabilities for sample 158000 / 199999\n",
      "[t-SNE] Computed conditional probabilities for sample 159000 / 199999\n",
      "[t-SNE] Computed conditional probabilities for sample 160000 / 199999\n",
      "[t-SNE] Computed conditional probabilities for sample 161000 / 199999\n",
      "[t-SNE] Computed conditional probabilities for sample 162000 / 199999\n",
      "[t-SNE] Computed conditional probabilities for sample 163000 / 199999\n",
      "[t-SNE] Computed conditional probabilities for sample 164000 / 199999\n",
      "[t-SNE] Computed conditional probabilities for sample 165000 / 199999\n",
      "[t-SNE] Computed conditional probabilities for sample 166000 / 199999\n",
      "[t-SNE] Computed conditional probabilities for sample 167000 / 199999\n",
      "[t-SNE] Computed conditional probabilities for sample 168000 / 199999\n",
      "[t-SNE] Computed conditional probabilities for sample 169000 / 199999\n",
      "[t-SNE] Computed conditional probabilities for sample 170000 / 199999\n",
      "[t-SNE] Computed conditional probabilities for sample 171000 / 199999\n",
      "[t-SNE] Computed conditional probabilities for sample 172000 / 199999\n",
      "[t-SNE] Computed conditional probabilities for sample 173000 / 199999\n",
      "[t-SNE] Computed conditional probabilities for sample 174000 / 199999\n",
      "[t-SNE] Computed conditional probabilities for sample 175000 / 199999\n",
      "[t-SNE] Computed conditional probabilities for sample 176000 / 199999\n",
      "[t-SNE] Computed conditional probabilities for sample 177000 / 199999\n",
      "[t-SNE] Computed conditional probabilities for sample 178000 / 199999\n",
      "[t-SNE] Computed conditional probabilities for sample 179000 / 199999\n",
      "[t-SNE] Computed conditional probabilities for sample 180000 / 199999\n",
      "[t-SNE] Computed conditional probabilities for sample 181000 / 199999\n",
      "[t-SNE] Computed conditional probabilities for sample 182000 / 199999\n",
      "[t-SNE] Computed conditional probabilities for sample 183000 / 199999\n",
      "[t-SNE] Computed conditional probabilities for sample 184000 / 199999\n",
      "[t-SNE] Computed conditional probabilities for sample 185000 / 199999\n",
      "[t-SNE] Computed conditional probabilities for sample 186000 / 199999\n",
      "[t-SNE] Computed conditional probabilities for sample 187000 / 199999\n",
      "[t-SNE] Computed conditional probabilities for sample 188000 / 199999\n",
      "[t-SNE] Computed conditional probabilities for sample 189000 / 199999\n",
      "[t-SNE] Computed conditional probabilities for sample 190000 / 199999\n",
      "[t-SNE] Computed conditional probabilities for sample 191000 / 199999\n",
      "[t-SNE] Computed conditional probabilities for sample 192000 / 199999\n",
      "[t-SNE] Computed conditional probabilities for sample 193000 / 199999\n",
      "[t-SNE] Computed conditional probabilities for sample 194000 / 199999\n",
      "[t-SNE] Computed conditional probabilities for sample 195000 / 199999\n",
      "[t-SNE] Computed conditional probabilities for sample 196000 / 199999\n",
      "[t-SNE] Computed conditional probabilities for sample 197000 / 199999\n",
      "[t-SNE] Computed conditional probabilities for sample 198000 / 199999\n",
      "[t-SNE] Computed conditional probabilities for sample 199000 / 199999\n",
      "[t-SNE] Computed conditional probabilities for sample 199999 / 199999\n",
      "[t-SNE] Mean sigma: 0.000000\n",
      "[t-SNE] Computed conditional probabilities in 18.650s\n",
      "[t-SNE] Iteration 50: error = 211.0143280, gradient norm = 0.1140391 (50 iterations in 114.235s)\n",
      "[t-SNE] Iteration 100: error = 203.2260284, gradient norm = 0.0736889 (50 iterations in 103.029s)\n",
      "[t-SNE] Iteration 150: error = 178.6011353, gradient norm = 0.1320194 (50 iterations in 133.783s)\n",
      "[t-SNE] Iteration 200: error = 177.1742859, gradient norm = 0.0854990 (50 iterations in 144.313s)\n",
      "[t-SNE] Iteration 250: error = 181.8284302, gradient norm = 0.0987973 (50 iterations in 121.467s)\n",
      "[t-SNE] KL divergence after 250 iterations with early exaggeration: 181.828430\n",
      "[t-SNE] Iteration 300: error = 7.6424212, gradient norm = 0.0114580 (50 iterations in 107.318s)\n",
      "[t-SNE] Iteration 350: error = 6.7680144, gradient norm = 0.0042110 (50 iterations in 105.861s)\n",
      "[t-SNE] Iteration 400: error = 6.6269093, gradient norm = 0.0042836 (50 iterations in 111.470s)\n",
      "[t-SNE] Iteration 450: error = 6.5808620, gradient norm = 0.0035320 (50 iterations in 96.591s)\n",
      "[t-SNE] Iteration 500: error = 6.5958076, gradient norm = 0.0042827 (50 iterations in 93.552s)\n",
      "[t-SNE] Iteration 550: error = 6.5944018, gradient norm = 0.0053355 (50 iterations in 113.993s)\n",
      "[t-SNE] Iteration 600: error = 6.6657634, gradient norm = 0.0054632 (50 iterations in 122.547s)\n",
      "[t-SNE] Iteration 650: error = 6.5454731, gradient norm = 0.0046920 (50 iterations in 105.637s)\n",
      "[t-SNE] Iteration 700: error = 6.4893546, gradient norm = 0.0040033 (50 iterations in 114.897s)\n",
      "[t-SNE] Iteration 750: error = 6.4691629, gradient norm = 0.0048328 (50 iterations in 129.752s)\n",
      "[t-SNE] Iteration 800: error = 6.4882884, gradient norm = 0.0046674 (50 iterations in 115.841s)\n",
      "[t-SNE] Iteration 850: error = 6.4863467, gradient norm = 0.0041148 (50 iterations in 92.779s)\n",
      "[t-SNE] Iteration 900: error = 6.4566112, gradient norm = 0.0061062 (50 iterations in 111.569s)\n",
      "[t-SNE] Iteration 950: error = 6.4845791, gradient norm = 0.0044299 (50 iterations in 102.437s)\n",
      "[t-SNE] Iteration 1000: error = 6.4793844, gradient norm = 0.0044329 (50 iterations in 109.366s)\n",
      "[t-SNE] KL divergence after 1000 iterations: 6.479384\n"
     ]
    }
   ],
   "source": [
    "from sklearn.manifold import TSNE\n",
    "\n",
    "tsne2d = TSNE(\n",
    "    n_components=2,\n",
    "    init='random', # pca\n",
    "    random_state=101,\n",
    "    method='barnes_hut',\n",
    "    n_iter=1000,\n",
    "    verbose=2,\n",
    "    angle=0.5\n",
    ").fit_transform(X)"
   ]
  },
  {
   "cell_type": "code",
   "execution_count": 33,
   "id": "f4ee5103",
   "metadata": {
    "execution": {
     "iopub.execute_input": "2024-02-16T20:29:50.657118Z",
     "iopub.status.busy": "2024-02-16T20:29:50.656774Z",
     "iopub.status.idle": "2024-02-16T20:29:53.129269Z",
     "shell.execute_reply": "2024-02-16T20:29:53.128288Z"
    },
    "papermill": {
     "duration": 2.501439,
     "end_time": "2024-02-16T20:29:53.131396",
     "exception": false,
     "start_time": "2024-02-16T20:29:50.629957",
     "status": "completed"
    },
    "tags": []
   },
   "outputs": [
    {
     "data": {
      "text/plain": [
       "<seaborn.axisgrid.FacetGrid at 0x7b819d9a2350>"
      ]
     },
     "execution_count": 33,
     "metadata": {},
     "output_type": "execute_result"
    },
    {
     "data": {
      "image/png": "[encoded data removed]",
      "text/plain": [
       "<Figure size 558.875x500 with 1 Axes>"
      ]
     },
     "metadata": {},
     "output_type": "display_data"
    }
   ],
   "source": [
    "x_df = pd.DataFrame({'x':tsne2d[:,0], 'y':tsne2d[:,1] ,'label':y})\n",
    "\n",
    "# draw the plot in appropriate place in the grid\n",
    "sns.lmplot(data=x_df, x='x', y='y', hue='label', fit_reg=False, palette=\"Set1\", markers=['s', 'o'])"
   ]
  },
  {
   "cell_type": "code",
   "execution_count": 34,
   "id": "c809ee4d",
   "metadata": {
    "execution": {
     "iopub.execute_input": "2024-02-16T20:29:53.184238Z",
     "iopub.status.busy": "2024-02-16T20:29:53.183916Z",
     "iopub.status.idle": "2024-02-16T20:29:53.210736Z",
     "shell.execute_reply": "2024-02-16T20:29:53.209844Z"
    },
    "papermill": {
     "duration": 0.055837,
     "end_time": "2024-02-16T20:29:53.212954",
     "exception": false,
     "start_time": "2024-02-16T20:29:53.157117",
     "status": "completed"
    },
    "tags": []
   },
   "outputs": [
    {
     "data": {
      "text/html": [
       "<div>\n",
       "<style scoped>\n",
       "    .dataframe tbody tr th:only-of-type {\n",
       "        vertical-align: middle;\n",
       "    }\n",
       "\n",
       "    .dataframe tbody tr th {\n",
       "        vertical-align: top;\n",
       "    }\n",
       "\n",
       "    .dataframe thead th {\n",
       "        text-align: right;\n",
       "    }\n",
       "</style>\n",
       "<table border=\"1\" class=\"dataframe\">\n",
       "  <thead>\n",
       "    <tr style=\"text-align: right;\">\n",
       "      <th></th>\n",
       "      <th>question1</th>\n",
       "      <th>question2</th>\n",
       "    </tr>\n",
       "  </thead>\n",
       "  <tbody>\n",
       "    <tr>\n",
       "      <th>398782</th>\n",
       "      <td>companies</td>\n",
       "      <td>companies</td>\n",
       "    </tr>\n",
       "    <tr>\n",
       "      <th>115086</th>\n",
       "      <td>do</td>\n",
       "      <td>do</td>\n",
       "    </tr>\n",
       "    <tr>\n",
       "      <th>327711</th>\n",
       "      <td>that</td>\n",
       "      <td>shit</td>\n",
       "    </tr>\n",
       "    <tr>\n",
       "      <th>367788</th>\n",
       "      <td>states</td>\n",
       "      <td>psychopath</td>\n",
       "    </tr>\n",
       "    <tr>\n",
       "      <th>151235</th>\n",
       "      <td>tragedy</td>\n",
       "      <td>tragedy</td>\n",
       "    </tr>\n",
       "  </tbody>\n",
       "</table>\n",
       "</div>"
      ],
      "text/plain": [
       "        question1   question2\n",
       "398782  companies   companies\n",
       "115086         do          do\n",
       "327711       that        shit\n",
       "367788     states  psychopath\n",
       "151235    tragedy     tragedy"
      ]
     },
     "execution_count": 34,
     "metadata": {},
     "output_type": "execute_result"
    }
   ],
   "source": [
    "ques_df = df[['question1','question2']]\n",
    "ques_df.head()"
   ]
  },
  {
   "cell_type": "code",
   "execution_count": 35,
   "id": "f470d9c3",
   "metadata": {
    "execution": {
     "iopub.execute_input": "2024-02-16T20:29:53.266582Z",
     "iopub.status.busy": "2024-02-16T20:29:53.266234Z",
     "iopub.status.idle": "2024-02-16T20:29:53.300885Z",
     "shell.execute_reply": "2024-02-16T20:29:53.299910Z"
    },
    "papermill": {
     "duration": 0.062883,
     "end_time": "2024-02-16T20:29:53.302887",
     "exception": false,
     "start_time": "2024-02-16T20:29:53.240004",
     "status": "completed"
    },
    "tags": []
   },
   "outputs": [
    {
     "name": "stdout",
     "output_type": "stream",
     "text": [
      "(199999, 18)\n"
     ]
    },
    {
     "data": {
      "text/html": [
       "<div>\n",
       "<style scoped>\n",
       "    .dataframe tbody tr th:only-of-type {\n",
       "        vertical-align: middle;\n",
       "    }\n",
       "\n",
       "    .dataframe tbody tr th {\n",
       "        vertical-align: top;\n",
       "    }\n",
       "\n",
       "    .dataframe thead th {\n",
       "        text-align: right;\n",
       "    }\n",
       "</style>\n",
       "<table border=\"1\" class=\"dataframe\">\n",
       "  <thead>\n",
       "    <tr style=\"text-align: right;\">\n",
       "      <th></th>\n",
       "      <th>is_duplicate</th>\n",
       "      <th>q1_len</th>\n",
       "      <th>q2_len</th>\n",
       "      <th>q1_num_words</th>\n",
       "      <th>q2_num_words</th>\n",
       "      <th>word_common</th>\n",
       "      <th>word_total</th>\n",
       "      <th>word_share</th>\n",
       "      <th>cwc_min</th>\n",
       "      <th>cwc_max</th>\n",
       "      <th>csc_min</th>\n",
       "      <th>csc_max</th>\n",
       "      <th>ctc_min</th>\n",
       "      <th>ctc_max</th>\n",
       "      <th>last_word_eq</th>\n",
       "      <th>first_word_eq</th>\n",
       "      <th>abs_len_diff</th>\n",
       "      <th>mean_len</th>\n",
       "    </tr>\n",
       "  </thead>\n",
       "  <tbody>\n",
       "    <tr>\n",
       "      <th>398782</th>\n",
       "      <td>1</td>\n",
       "      <td>9</td>\n",
       "      <td>9</td>\n",
       "      <td>1</td>\n",
       "      <td>1</td>\n",
       "      <td>1</td>\n",
       "      <td>2</td>\n",
       "      <td>0.5</td>\n",
       "      <td>0.999001</td>\n",
       "      <td>0.999001</td>\n",
       "      <td>0.000000</td>\n",
       "      <td>0.000000</td>\n",
       "      <td>0.999001</td>\n",
       "      <td>0.999001</td>\n",
       "      <td>1.0</td>\n",
       "      <td>1.0</td>\n",
       "      <td>0.0</td>\n",
       "      <td>1.0</td>\n",
       "    </tr>\n",
       "    <tr>\n",
       "      <th>115086</th>\n",
       "      <td>0</td>\n",
       "      <td>2</td>\n",
       "      <td>2</td>\n",
       "      <td>1</td>\n",
       "      <td>1</td>\n",
       "      <td>1</td>\n",
       "      <td>2</td>\n",
       "      <td>0.5</td>\n",
       "      <td>0.000000</td>\n",
       "      <td>0.000000</td>\n",
       "      <td>0.999001</td>\n",
       "      <td>0.999001</td>\n",
       "      <td>0.999001</td>\n",
       "      <td>0.999001</td>\n",
       "      <td>1.0</td>\n",
       "      <td>1.0</td>\n",
       "      <td>0.0</td>\n",
       "      <td>1.0</td>\n",
       "    </tr>\n",
       "    <tr>\n",
       "      <th>327711</th>\n",
       "      <td>0</td>\n",
       "      <td>4</td>\n",
       "      <td>4</td>\n",
       "      <td>1</td>\n",
       "      <td>1</td>\n",
       "      <td>0</td>\n",
       "      <td>2</td>\n",
       "      <td>0.0</td>\n",
       "      <td>0.000000</td>\n",
       "      <td>0.000000</td>\n",
       "      <td>0.000000</td>\n",
       "      <td>0.000000</td>\n",
       "      <td>0.000000</td>\n",
       "      <td>0.000000</td>\n",
       "      <td>0.0</td>\n",
       "      <td>0.0</td>\n",
       "      <td>0.0</td>\n",
       "      <td>1.0</td>\n",
       "    </tr>\n",
       "    <tr>\n",
       "      <th>367788</th>\n",
       "      <td>0</td>\n",
       "      <td>6</td>\n",
       "      <td>10</td>\n",
       "      <td>1</td>\n",
       "      <td>1</td>\n",
       "      <td>0</td>\n",
       "      <td>2</td>\n",
       "      <td>0.0</td>\n",
       "      <td>0.000000</td>\n",
       "      <td>0.000000</td>\n",
       "      <td>0.000000</td>\n",
       "      <td>0.000000</td>\n",
       "      <td>0.000000</td>\n",
       "      <td>0.000000</td>\n",
       "      <td>0.0</td>\n",
       "      <td>0.0</td>\n",
       "      <td>0.0</td>\n",
       "      <td>1.0</td>\n",
       "    </tr>\n",
       "    <tr>\n",
       "      <th>151235</th>\n",
       "      <td>0</td>\n",
       "      <td>7</td>\n",
       "      <td>7</td>\n",
       "      <td>1</td>\n",
       "      <td>1</td>\n",
       "      <td>1</td>\n",
       "      <td>2</td>\n",
       "      <td>0.5</td>\n",
       "      <td>0.999001</td>\n",
       "      <td>0.999001</td>\n",
       "      <td>0.000000</td>\n",
       "      <td>0.000000</td>\n",
       "      <td>0.999001</td>\n",
       "      <td>0.999001</td>\n",
       "      <td>1.0</td>\n",
       "      <td>1.0</td>\n",
       "      <td>0.0</td>\n",
       "      <td>1.0</td>\n",
       "    </tr>\n",
       "  </tbody>\n",
       "</table>\n",
       "</div>"
      ],
      "text/plain": [
       "        is_duplicate  q1_len  q2_len  q1_num_words  q2_num_words  word_common  \\\n",
       "398782             1       9       9             1             1            1   \n",
       "115086             0       2       2             1             1            1   \n",
       "327711             0       4       4             1             1            0   \n",
       "367788             0       6      10             1             1            0   \n",
       "151235             0       7       7             1             1            1   \n",
       "\n",
       "        word_total  word_share   cwc_min   cwc_max   csc_min   csc_max  \\\n",
       "398782           2         0.5  0.999001  0.999001  0.000000  0.000000   \n",
       "115086           2         0.5  0.000000  0.000000  0.999001  0.999001   \n",
       "327711           2         0.0  0.000000  0.000000  0.000000  0.000000   \n",
       "367788           2         0.0  0.000000  0.000000  0.000000  0.000000   \n",
       "151235           2         0.5  0.999001  0.999001  0.000000  0.000000   \n",
       "\n",
       "         ctc_min   ctc_max  last_word_eq  first_word_eq  abs_len_diff  \\\n",
       "398782  0.999001  0.999001           1.0            1.0           0.0   \n",
       "115086  0.999001  0.999001           1.0            1.0           0.0   \n",
       "327711  0.000000  0.000000           0.0            0.0           0.0   \n",
       "367788  0.000000  0.000000           0.0            0.0           0.0   \n",
       "151235  0.999001  0.999001           1.0            1.0           0.0   \n",
       "\n",
       "        mean_len  \n",
       "398782       1.0  \n",
       "115086       1.0  \n",
       "327711       1.0  \n",
       "367788       1.0  \n",
       "151235       1.0  "
      ]
     },
     "execution_count": 35,
     "metadata": {},
     "output_type": "execute_result"
    }
   ],
   "source": [
    "final_df = df.drop(columns=(['id','qid1','qid2','question1','question2']))\n",
    "print(final_df.shape)\n",
    "final_df.head()"
   ]
  },
  {
   "cell_type": "code",
   "execution_count": 36,
   "id": "f2f1c1b0",
   "metadata": {
    "execution": {
     "iopub.execute_input": "2024-02-16T20:29:53.356359Z",
     "iopub.status.busy": "2024-02-16T20:29:53.356045Z",
     "iopub.status.idle": "2024-02-16T20:29:56.097023Z",
     "shell.execute_reply": "2024-02-16T20:29:56.096102Z"
    },
    "papermill": {
     "duration": 2.770421,
     "end_time": "2024-02-16T20:29:56.099279",
     "exception": false,
     "start_time": "2024-02-16T20:29:53.328858",
     "status": "completed"
    },
    "tags": []
   },
   "outputs": [],
   "source": [
    "from sklearn.feature_extraction.text import CountVectorizer\n",
    " # merging text\n",
    "ques= list(ques_df['question1'])+list(ques_df['question2'])\n",
    "\n",
    "cv =CountVectorizer(max_features=1500)\n",
    "q1_arr, q2_arr = np.vsplit(cv.fit_transform(ques).toarray(),2)\n"
   ]
  },
  {
   "cell_type": "code",
   "execution_count": 37,
   "id": "ca7beaee",
   "metadata": {
    "execution": {
     "iopub.execute_input": "2024-02-16T20:29:56.156365Z",
     "iopub.status.busy": "2024-02-16T20:29:56.155954Z",
     "iopub.status.idle": "2024-02-16T20:30:03.915617Z",
     "shell.execute_reply": "2024-02-16T20:30:03.914600Z"
    },
    "papermill": {
     "duration": 7.791316,
     "end_time": "2024-02-16T20:30:03.917632",
     "exception": false,
     "start_time": "2024-02-16T20:29:56.126316",
     "status": "completed"
    },
    "tags": []
   },
   "outputs": [
    {
     "data": {
      "text/plain": [
       "(199999, 3000)"
      ]
     },
     "execution_count": 37,
     "metadata": {},
     "output_type": "execute_result"
    }
   ],
   "source": [
    "df1 = pd.DataFrame(q1_arr, index= ques_df.index)\n",
    "df2 = pd.DataFrame(q2_arr, index= ques_df.index)\n",
    "df3 = pd.concat([df1,df2],axis=1)\n",
    "df3.shape"
   ]
  },
  {
   "cell_type": "code",
   "execution_count": 38,
   "id": "57616b16",
   "metadata": {
    "execution": {
     "iopub.execute_input": "2024-02-16T20:30:03.971540Z",
     "iopub.status.busy": "2024-02-16T20:30:03.971176Z",
     "iopub.status.idle": "2024-02-16T20:30:08.761333Z",
     "shell.execute_reply": "2024-02-16T20:30:08.760391Z"
    },
    "papermill": {
     "duration": 4.819579,
     "end_time": "2024-02-16T20:30:08.763292",
     "exception": false,
     "start_time": "2024-02-16T20:30:03.943713",
     "status": "completed"
    },
    "tags": []
   },
   "outputs": [
    {
     "name": "stdout",
     "output_type": "stream",
     "text": [
      "(199999, 3018)\n"
     ]
    },
    {
     "data": {
      "text/html": [
       "<div>\n",
       "<style scoped>\n",
       "    .dataframe tbody tr th:only-of-type {\n",
       "        vertical-align: middle;\n",
       "    }\n",
       "\n",
       "    .dataframe tbody tr th {\n",
       "        vertical-align: top;\n",
       "    }\n",
       "\n",
       "    .dataframe thead th {\n",
       "        text-align: right;\n",
       "    }\n",
       "</style>\n",
       "<table border=\"1\" class=\"dataframe\">\n",
       "  <thead>\n",
       "    <tr style=\"text-align: right;\">\n",
       "      <th></th>\n",
       "      <th>is_duplicate</th>\n",
       "      <th>q1_len</th>\n",
       "      <th>q2_len</th>\n",
       "      <th>q1_num_words</th>\n",
       "      <th>q2_num_words</th>\n",
       "      <th>word_common</th>\n",
       "      <th>word_total</th>\n",
       "      <th>word_share</th>\n",
       "      <th>cwc_min</th>\n",
       "      <th>cwc_max</th>\n",
       "      <th>...</th>\n",
       "      <th>1490</th>\n",
       "      <th>1491</th>\n",
       "      <th>1492</th>\n",
       "      <th>1493</th>\n",
       "      <th>1494</th>\n",
       "      <th>1495</th>\n",
       "      <th>1496</th>\n",
       "      <th>1497</th>\n",
       "      <th>1498</th>\n",
       "      <th>1499</th>\n",
       "    </tr>\n",
       "  </thead>\n",
       "  <tbody>\n",
       "    <tr>\n",
       "      <th>398782</th>\n",
       "      <td>1</td>\n",
       "      <td>9</td>\n",
       "      <td>9</td>\n",
       "      <td>1</td>\n",
       "      <td>1</td>\n",
       "      <td>1</td>\n",
       "      <td>2</td>\n",
       "      <td>0.5</td>\n",
       "      <td>0.999001</td>\n",
       "      <td>0.999001</td>\n",
       "      <td>...</td>\n",
       "      <td>0</td>\n",
       "      <td>0</td>\n",
       "      <td>0</td>\n",
       "      <td>0</td>\n",
       "      <td>0</td>\n",
       "      <td>0</td>\n",
       "      <td>0</td>\n",
       "      <td>0</td>\n",
       "      <td>0</td>\n",
       "      <td>0</td>\n",
       "    </tr>\n",
       "    <tr>\n",
       "      <th>115086</th>\n",
       "      <td>0</td>\n",
       "      <td>2</td>\n",
       "      <td>2</td>\n",
       "      <td>1</td>\n",
       "      <td>1</td>\n",
       "      <td>1</td>\n",
       "      <td>2</td>\n",
       "      <td>0.5</td>\n",
       "      <td>0.000000</td>\n",
       "      <td>0.000000</td>\n",
       "      <td>...</td>\n",
       "      <td>0</td>\n",
       "      <td>0</td>\n",
       "      <td>0</td>\n",
       "      <td>0</td>\n",
       "      <td>0</td>\n",
       "      <td>0</td>\n",
       "      <td>0</td>\n",
       "      <td>0</td>\n",
       "      <td>0</td>\n",
       "      <td>0</td>\n",
       "    </tr>\n",
       "    <tr>\n",
       "      <th>327711</th>\n",
       "      <td>0</td>\n",
       "      <td>4</td>\n",
       "      <td>4</td>\n",
       "      <td>1</td>\n",
       "      <td>1</td>\n",
       "      <td>0</td>\n",
       "      <td>2</td>\n",
       "      <td>0.0</td>\n",
       "      <td>0.000000</td>\n",
       "      <td>0.000000</td>\n",
       "      <td>...</td>\n",
       "      <td>0</td>\n",
       "      <td>0</td>\n",
       "      <td>0</td>\n",
       "      <td>0</td>\n",
       "      <td>0</td>\n",
       "      <td>0</td>\n",
       "      <td>0</td>\n",
       "      <td>0</td>\n",
       "      <td>0</td>\n",
       "      <td>0</td>\n",
       "    </tr>\n",
       "    <tr>\n",
       "      <th>367788</th>\n",
       "      <td>0</td>\n",
       "      <td>6</td>\n",
       "      <td>10</td>\n",
       "      <td>1</td>\n",
       "      <td>1</td>\n",
       "      <td>0</td>\n",
       "      <td>2</td>\n",
       "      <td>0.0</td>\n",
       "      <td>0.000000</td>\n",
       "      <td>0.000000</td>\n",
       "      <td>...</td>\n",
       "      <td>0</td>\n",
       "      <td>0</td>\n",
       "      <td>0</td>\n",
       "      <td>0</td>\n",
       "      <td>0</td>\n",
       "      <td>0</td>\n",
       "      <td>0</td>\n",
       "      <td>0</td>\n",
       "      <td>0</td>\n",
       "      <td>0</td>\n",
       "    </tr>\n",
       "    <tr>\n",
       "      <th>151235</th>\n",
       "      <td>0</td>\n",
       "      <td>7</td>\n",
       "      <td>7</td>\n",
       "      <td>1</td>\n",
       "      <td>1</td>\n",
       "      <td>1</td>\n",
       "      <td>2</td>\n",
       "      <td>0.5</td>\n",
       "      <td>0.999001</td>\n",
       "      <td>0.999001</td>\n",
       "      <td>...</td>\n",
       "      <td>0</td>\n",
       "      <td>0</td>\n",
       "      <td>0</td>\n",
       "      <td>0</td>\n",
       "      <td>0</td>\n",
       "      <td>0</td>\n",
       "      <td>0</td>\n",
       "      <td>0</td>\n",
       "      <td>0</td>\n",
       "      <td>0</td>\n",
       "    </tr>\n",
       "  </tbody>\n",
       "</table>\n",
       "<p>5 rows × 3018 columns</p>\n",
       "</div>"
      ],
      "text/plain": [
       "        is_duplicate  q1_len  q2_len  q1_num_words  q2_num_words  word_common  \\\n",
       "398782             1       9       9             1             1            1   \n",
       "115086             0       2       2             1             1            1   \n",
       "327711             0       4       4             1             1            0   \n",
       "367788             0       6      10             1             1            0   \n",
       "151235             0       7       7             1             1            1   \n",
       "\n",
       "        word_total  word_share   cwc_min   cwc_max  ...  1490  1491  1492  \\\n",
       "398782           2         0.5  0.999001  0.999001  ...     0     0     0   \n",
       "115086           2         0.5  0.000000  0.000000  ...     0     0     0   \n",
       "327711           2         0.0  0.000000  0.000000  ...     0     0     0   \n",
       "367788           2         0.0  0.000000  0.000000  ...     0     0     0   \n",
       "151235           2         0.5  0.999001  0.999001  ...     0     0     0   \n",
       "\n",
       "        1493  1494  1495  1496  1497  1498  1499  \n",
       "398782     0     0     0     0     0     0     0  \n",
       "115086     0     0     0     0     0     0     0  \n",
       "327711     0     0     0     0     0     0     0  \n",
       "367788     0     0     0     0     0     0     0  \n",
       "151235     0     0     0     0     0     0     0  \n",
       "\n",
       "[5 rows x 3018 columns]"
      ]
     },
     "execution_count": 38,
     "metadata": {},
     "output_type": "execute_result"
    }
   ],
   "source": [
    "final_df = pd.concat([final_df,df3],axis=1)\n",
    "print(final_df.shape)\n",
    "final_df.head()"
   ]
  },
  {
   "cell_type": "markdown",
   "id": "eaec7fca",
   "metadata": {
    "papermill": {
     "duration": 0.026206,
     "end_time": "2024-02-16T20:30:08.817125",
     "exception": false,
     "start_time": "2024-02-16T20:30:08.790919",
     "status": "completed"
    },
    "tags": []
   },
   "source": [
    "# **Models**"
   ]
  },
  {
   "cell_type": "code",
   "execution_count": 39,
   "id": "2cc4b138",
   "metadata": {
    "execution": {
     "iopub.execute_input": "2024-02-16T20:30:08.870895Z",
     "iopub.status.busy": "2024-02-16T20:30:08.870340Z",
     "iopub.status.idle": "2024-02-16T20:30:23.628854Z",
     "shell.execute_reply": "2024-02-16T20:30:23.627948Z"
    },
    "papermill": {
     "duration": 14.788052,
     "end_time": "2024-02-16T20:30:23.631220",
     "exception": false,
     "start_time": "2024-02-16T20:30:08.843168",
     "status": "completed"
    },
    "tags": []
   },
   "outputs": [],
   "source": [
    "from sklearn.model_selection import train_test_split\n",
    "X_train,X_test,y_train,y_test = train_test_split(final_df.iloc[:,1:].values,final_df.iloc[:,0].values,test_size=0.2,random_state=1)"
   ]
  },
  {
   "cell_type": "code",
   "execution_count": 40,
   "id": "f2048c17",
   "metadata": {
    "execution": {
     "iopub.execute_input": "2024-02-16T20:30:23.685091Z",
     "iopub.status.busy": "2024-02-16T20:30:23.684799Z",
     "iopub.status.idle": "2024-02-16T21:04:36.627481Z",
     "shell.execute_reply": "2024-02-16T21:04:36.626393Z"
    },
    "papermill": {
     "duration": 2053.000581,
     "end_time": "2024-02-16T21:04:36.658130",
     "exception": false,
     "start_time": "2024-02-16T20:30:23.657549",
     "status": "completed"
    },
    "tags": []
   },
   "outputs": [
    {
     "data": {
      "text/plain": [
       "0.71385"
      ]
     },
     "execution_count": 40,
     "metadata": {},
     "output_type": "execute_result"
    }
   ],
   "source": [
    "#Random Forest\n",
    "from sklearn.ensemble import RandomForestClassifier\n",
    "from sklearn.metrics import accuracy_score\n",
    "rf = RandomForestClassifier()\n",
    "rf.fit(X_train,y_train)\n",
    "y_pred1 = rf.predict(X_test)\n",
    "accuracy_score(y_test,y_pred1)"
   ]
  },
  {
   "cell_type": "code",
   "execution_count": 41,
   "id": "fe0690f6",
   "metadata": {
    "execution": {
     "iopub.execute_input": "2024-02-16T21:04:36.712700Z",
     "iopub.status.busy": "2024-02-16T21:04:36.712305Z",
     "iopub.status.idle": "2024-02-16T21:05:38.944032Z",
     "shell.execute_reply": "2024-02-16T21:05:38.942960Z"
    },
    "papermill": {
     "duration": 62.282856,
     "end_time": "2024-02-16T21:05:38.967915",
     "exception": false,
     "start_time": "2024-02-16T21:04:36.685059",
     "status": "completed"
    },
    "tags": []
   },
   "outputs": [
    {
     "data": {
      "text/plain": [
       "0.7118"
      ]
     },
     "execution_count": 41,
     "metadata": {},
     "output_type": "execute_result"
    }
   ],
   "source": [
    "#XG Boost\n",
    "from xgboost import XGBClassifier\n",
    "xgb =XGBClassifier()\n",
    "xgb.fit(X_train,y_train)\n",
    "y_pred2 =xgb.predict(X_test)\n",
    "accuracy_score(y_test,y_pred2)"
   ]
  },
  {
   "cell_type": "code",
   "execution_count": 42,
   "id": "703c40c5",
   "metadata": {
    "execution": {
     "iopub.execute_input": "2024-02-16T21:05:39.023470Z",
     "iopub.status.busy": "2024-02-16T21:05:39.023167Z",
     "iopub.status.idle": "2024-02-16T21:07:16.769032Z",
     "shell.execute_reply": "2024-02-16T21:07:16.767587Z"
    },
    "papermill": {
     "duration": 97.835486,
     "end_time": "2024-02-16T21:07:16.830244",
     "exception": false,
     "start_time": "2024-02-16T21:05:38.994758",
     "status": "completed"
    },
    "tags": []
   },
   "outputs": [
    {
     "data": {
      "text/plain": [
       "0.7174"
      ]
     },
     "execution_count": 42,
     "metadata": {},
     "output_type": "execute_result"
    }
   ],
   "source": [
    "#Softmax Regression\n",
    "from sklearn.linear_model import LogisticRegression\n",
    "sm = LogisticRegression(multi_class='multinomial')\n",
    "sm.fit(X_train,y_train)\n",
    "y_pred3= sm.predict(X_test)\n",
    "accuracy_score(y_test,y_pred3)"
   ]
  },
  {
   "cell_type": "code",
   "execution_count": 43,
   "id": "90efccc5",
   "metadata": {
    "execution": {
     "iopub.execute_input": "2024-02-16T21:07:16.912783Z",
     "iopub.status.busy": "2024-02-16T21:07:16.912452Z",
     "iopub.status.idle": "2024-02-16T21:07:16.921014Z",
     "shell.execute_reply": "2024-02-16T21:07:16.920137Z"
    },
    "papermill": {
     "duration": 0.037615,
     "end_time": "2024-02-16T21:07:16.922807",
     "exception": false,
     "start_time": "2024-02-16T21:07:16.885192",
     "status": "completed"
    },
    "tags": []
   },
   "outputs": [
    {
     "data": {
      "text/plain": [
       "array([[19414,  5889],\n",
       "       [ 5557,  9140]])"
      ]
     },
     "execution_count": 43,
     "metadata": {},
     "output_type": "execute_result"
    }
   ],
   "source": [
    "# In this problem confusion metics also be a better metrics as me want to know how much not duplicated ques get predicted as non duplicate and non duplicate predicted as duplicate\n",
    "from sklearn.metrics import confusion_matrix\n",
    "confusion_matrix(y_test,y_pred1)"
   ]
  },
  {
   "cell_type": "code",
   "execution_count": 44,
   "id": "0e904345",
   "metadata": {
    "execution": {
     "iopub.execute_input": "2024-02-16T21:07:16.976231Z",
     "iopub.status.busy": "2024-02-16T21:07:16.975965Z",
     "iopub.status.idle": "2024-02-16T21:07:16.989106Z",
     "shell.execute_reply": "2024-02-16T21:07:16.988180Z"
    },
    "papermill": {
     "duration": 0.042204,
     "end_time": "2024-02-16T21:07:16.991181",
     "exception": false,
     "start_time": "2024-02-16T21:07:16.948977",
     "status": "completed"
    },
    "tags": []
   },
   "outputs": [
    {
     "data": {
      "text/plain": [
       "array([[20853,  4450],\n",
       "       [ 7078,  7619]])"
      ]
     },
     "execution_count": 44,
     "metadata": {},
     "output_type": "execute_result"
    }
   ],
   "source": [
    "confusion_matrix(y_test,y_pred2)"
   ]
  },
  {
   "cell_type": "code",
   "execution_count": 45,
   "id": "149ccf96",
   "metadata": {
    "execution": {
     "iopub.execute_input": "2024-02-16T21:07:17.093077Z",
     "iopub.status.busy": "2024-02-16T21:07:17.092263Z",
     "iopub.status.idle": "2024-02-16T21:07:17.106248Z",
     "shell.execute_reply": "2024-02-16T21:07:17.105407Z"
    },
    "papermill": {
     "duration": 0.090328,
     "end_time": "2024-02-16T21:07:17.108119",
     "exception": false,
     "start_time": "2024-02-16T21:07:17.017791",
     "status": "completed"
    },
    "tags": []
   },
   "outputs": [
    {
     "data": {
      "text/plain": [
       "array([[21266,  4037],\n",
       "       [ 7267,  7430]])"
      ]
     },
     "execution_count": 45,
     "metadata": {},
     "output_type": "execute_result"
    }
   ],
   "source": [
    "confusion_matrix(y_test,y_pred3)"
   ]
  },
  {
   "cell_type": "markdown",
   "id": "2ee5cc65",
   "metadata": {
    "papermill": {
     "duration": 0.026735,
     "end_time": "2024-02-16T21:07:17.161629",
     "exception": false,
     "start_time": "2024-02-16T21:07:17.134894",
     "status": "completed"
    },
    "tags": []
   },
   "source": [
    "Out of the used model Random Forest is giving the best accuracy result and also the number of False Negative outcomes is also less compared to the other algorithms. \n",
    "Here FN play crutial role as they can impact the user interation because they will get someother answer of the ques they asked because the question is assigned as duplicate so out of the 2 only 1 user will get the correct answer for those who come under FN.\n",
    "so RF is the best algo here."
   ]
  }
 ],
 "metadata": {
  "kaggle": {
   "accelerator": "nvidiaTeslaT4",
   "dataSources": [
    {
     "databundleVersionId": 323734,
     "sourceId": 6277,
     "sourceType": "competition"
    }
   ],
   "dockerImageVersionId": 30648,
   "isGpuEnabled": true,
   "isInternetEnabled": true,
   "language": "python",
   "sourceType": "notebook"
  },
  "kernelspec": {
   "display_name": "Python 3",
   "language": "python",
   "name": "python3"
  },
  "language_info": {
   "codemirror_mode": {
    "name": "ipython",
    "version": 3
   },
   "file_extension": ".py",
   "mimetype": "text/x-python",
   "name": "python",
   "nbconvert_exporter": "python",
   "pygments_lexer": "ipython3",
   "version": "3.10.13"
  },
  "papermill": {
   "default_parameters": {},
   "duration": 5311.622667,
   "end_time": "2024-02-16T21:07:18.421467",
   "environment_variables": {},
   "exception": null,
   "input_path": "__notebook__.ipynb",
   "output_path": "__notebook__.ipynb",
   "parameters": {},
   "start_time": "2024-02-16T19:38:46.798800",
   "version": "2.5.0"
  }
 },
 "nbformat": 4,
 "nbformat_minor": 5
}
